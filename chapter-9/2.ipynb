{
 "cells": [
  {
   "cell_type": "code",
   "execution_count": 1,
   "metadata": {},
   "outputs": [
    {
     "name": "stdout",
     "output_type": "stream",
     "text": [
      "0.016194655425803606\n"
     ]
    }
   ],
   "source": [
    "import numpy as np\n",
    "import scipy.stats as st\n",
    "\n",
    "a = 1\n",
    "b = 3\n",
    "n = 10\n",
    "B = 1000\n",
    "\n",
    "# true tau\n",
    "t = (a + b)/2\n",
    "\n",
    "# replications of X (B times)\n",
    "X: np.ndarray = st.uniform.rvs(loc=a, scale=b-a, size=(B, n)) # type: ignore\n",
    "\n",
    "# MLE\n",
    "t_hat: np.ndarray = (X.max(axis=1) + X.min(axis=1))/2\n",
    "mse_hat = np.mean((t_hat - t)**2)\n",
    "print(mse_hat)"
   ]
  },
  {
   "cell_type": "code",
   "execution_count": 2,
   "metadata": {},
   "outputs": [
    {
     "name": "stdout",
     "output_type": "stream",
     "text": [
      "0.019743907291525586\n"
     ]
    }
   ],
   "source": [
    "Y: np.ndarray = st.uniform.rvs(loc=a, scale=b-a, size=n) # type: ignore\n",
    "yy: np.ndarray = np.random.choice(Y, size=(B,n), replace=True)\n",
    "\n",
    "t_boot: np.ndarray = (yy.max(axis=1) + yy.min(axis=1))/2\n",
    "ty_hat = (Y.max() + Y.min())/2\n",
    "\n",
    "mse_boot = np.mean((t_boot - ty_hat)**2)\n",
    "print(mse_boot)"
   ]
  }
 ],
 "metadata": {
  "kernelspec": {
   "display_name": "ai",
   "language": "python",
   "name": "python3"
  },
  "language_info": {
   "codemirror_mode": {
    "name": "ipython",
    "version": 3
   },
   "file_extension": ".py",
   "mimetype": "text/x-python",
   "name": "python",
   "nbconvert_exporter": "python",
   "pygments_lexer": "ipython3",
   "version": "3.11.4"
  },
  "orig_nbformat": 4
 },
 "nbformat": 4,
 "nbformat_minor": 2
}
