{
 "cells": [
  {
   "cell_type": "code",
   "execution_count": 11,
   "metadata": {},
   "outputs": [
    {
     "name": "stdout",
     "output_type": "stream",
     "text": [
      "0.06000000000000005\n",
      "0.04197618372363071\n",
      "(-0.009044678043395274, 0.12904467804339537)\n"
     ]
    }
   ],
   "source": [
    "import numpy as np\n",
    "from scipy.stats import norm, binom\n",
    "\n",
    "n = 200\n",
    "X_1 = 160\n",
    "X_2 = 148\n",
    "alpha = 0.1\n",
    "z_1 = norm.ppf(1 - alpha/2)\n",
    "\n",
    "p_1 = X_1 / n\n",
    "p_2 = X_2 / n\n",
    "\n",
    "psi_hat = p_1 - p_2\n",
    "\n",
    "# Delta method\n",
    "se_hat = np.sqrt(p_1*(1-p_1)/n + p_2*(1-p_2)/n)\n",
    "\n",
    "C_n = (psi_hat - z_1*se_hat, psi_hat + z_1*se_hat)\n",
    "print(psi_hat)\n",
    "print(se_hat)\n",
    "print(C_n)"
   ]
  },
  {
   "cell_type": "code",
   "execution_count": 12,
   "metadata": {},
   "outputs": [
    {
     "name": "stdout",
     "output_type": "stream",
     "text": [
      "(-0.006231150078427894, 0.126231150078428)\n"
     ]
    },
    {
     "ename": "",
     "evalue": "",
     "output_type": "error",
     "traceback": [
      "\u001b[1;31mThe Kernel crashed while executing code in the the current cell or a previous cell. Please review the code in the cell(s) to identify a possible cause of the failure. Click <a href='https://aka.ms/vscodeJupyterKernelCrash'>here</a> for more info. View Jupyter <a href='command:jupyter.viewOutput'>log</a> for further details."
     ]
    }
   ],
   "source": [
    "# Parametric bootstrap\n",
    "B = 1000\n",
    "\n",
    "xx_1 = binom.rvs(n, p_1, size=B)\n",
    "xx_2 = binom.rvs(n, p_2, size=B)\n",
    "\n",
    "psi_boot = xx_1/n - xx_2/n\n",
    "se_boot = np.sqrt( np.mean((psi_boot - psi_hat)**2) )\n",
    "\n",
    "C_boot = (psi_hat - z_1*se_boot, psi_hat + z_1*se_boot)\n",
    "print(C_boot)"
   ]
  }
 ],
 "metadata": {
  "kernelspec": {
   "display_name": "ai",
   "language": "python",
   "name": "python3"
  },
  "language_info": {
   "codemirror_mode": {
    "name": "ipython",
    "version": 3
   },
   "file_extension": ".py",
   "mimetype": "text/x-python",
   "name": "python",
   "nbconvert_exporter": "python",
   "pygments_lexer": "ipython3",
   "version": "3.11.4"
  },
  "orig_nbformat": 4
 },
 "nbformat": 4,
 "nbformat_minor": 2
}
