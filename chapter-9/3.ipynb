{
 "cells": [
  {
   "cell_type": "code",
   "execution_count": 9,
   "metadata": {},
   "outputs": [
    {
     "name": "stdout",
     "output_type": "stream",
     "text": [
      "4.180410658803283\n",
      "0.5575801038636548\n"
     ]
    }
   ],
   "source": [
    "import numpy as np\n",
    "from scipy.stats import norm\n",
    "\n",
    "X = np.array([\n",
    "    3.23, -2.50,  1.88, -0.68,  4.43, 0.17,\n",
    "    1.03, -0.07, -0.01,  0.76,  1.76, 3.18,\n",
    "    0.33, -0.31,  0.30, -0.61,  1.52, 5.43,\n",
    "    1.54,  2.28,  0.42,  2.33, -1.03, 4.00,\n",
    "    0.39   \n",
    "])\n",
    "z_05 = norm.ppf(0.95)\n",
    "n = len(X)\n",
    "\n",
    "mu_hat = X.mean()\n",
    "sigma_hat = X.std()\n",
    "\n",
    "# MLE of tau\n",
    "tau_hat = mu_hat + z_05 * sigma_hat\n",
    "\n",
    "# Delta method\n",
    "se_hat = sigma_hat * np.sqrt( 1/n * (1 + z_05**2/2) )\n",
    "\n",
    "print(tau_hat)\n",
    "print(se_hat)"
   ]
  },
  {
   "cell_type": "code",
   "execution_count": 10,
   "metadata": {},
   "outputs": [
    {
     "name": "stdout",
     "output_type": "stream",
     "text": [
      "0.54705373493292\n"
     ]
    }
   ],
   "source": [
    "# Parametric bootstrap\n",
    "B = 1_000\n",
    "xx: np.ndarray = norm.rvs(loc=mu_hat, scale=sigma_hat, size=(B,n)) # type: ignore\n",
    "\n",
    "tau_boot: np.ndarray = xx.mean(axis=1) + z_05 * xx.std(axis=1)\n",
    "se_boot = np.sqrt( np.mean( (tau_boot - tau_hat)**2 ) )\n",
    "print(se_boot)"
   ]
  }
 ],
 "metadata": {
  "kernelspec": {
   "display_name": "ai",
   "language": "python",
   "name": "python3"
  },
  "language_info": {
   "codemirror_mode": {
    "name": "ipython",
    "version": 3
   },
   "file_extension": ".py",
   "mimetype": "text/x-python",
   "name": "python",
   "nbconvert_exporter": "python",
   "pygments_lexer": "ipython3",
   "version": "3.11.4"
  },
  "orig_nbformat": 4
 },
 "nbformat": 4,
 "nbformat_minor": 2
}
