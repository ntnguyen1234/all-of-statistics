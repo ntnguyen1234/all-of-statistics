{
 "cells": [
  {
   "cell_type": "code",
   "execution_count": 37,
   "metadata": {},
   "outputs": [
    {
     "name": "stdout",
     "output_type": "stream",
     "text": [
      "0.054\n"
     ]
    },
    {
     "ename": "",
     "evalue": "",
     "output_type": "error",
     "traceback": [
      "\u001b[1;31mThe Kernel crashed while executing code in the the current cell or a previous cell. Please review the code in the cell(s) to identify a possible cause of the failure. Click <a href='https://aka.ms/vscodeJupyterKernelCrash'>here</a> for more info. View Jupyter <a href='command:jupyter.viewOutput'>log</a> for further details."
     ]
    }
   ],
   "source": [
    "import numpy as np\n",
    "from scipy import stats as st\n",
    "\n",
    "lambda_0 = 1\n",
    "n = 20\n",
    "alpha = 0.05\n",
    "B = 1000\n",
    "\n",
    "z_alpha = st.norm.ppf(1 - alpha/2)\n",
    "X: np.ndarray = st.poisson.rvs(lambda_0, size=(B, n))\n",
    "\n",
    "lambda_hat = X.mean(axis=1)\n",
    "se_hat = np.sqrt( lambda_hat / n )\n",
    "W = (lambda_hat - lambda_0) / se_hat\n",
    "\n",
    "print(np.mean(np.abs(W) > z_alpha))"
   ]
  },
  {
   "cell_type": "code",
   "execution_count": 32,
   "metadata": {},
   "outputs": [
    {
     "name": "stdout",
     "output_type": "stream",
     "text": [
      "54\n"
     ]
    }
   ],
   "source": [
    "count = 0\n",
    "\n",
    "for i in range(B):\n",
    "    X: np.ndarray = st.poisson.rvs(lambda_0, size=n, random_state=i)\n",
    "\n",
    "    lambda_hat = X.mean()\n",
    "    se_hat = np.sqrt( lambda_hat / n )\n",
    "    W = (lambda_hat - lambda_0) / se_hat\n",
    "\n",
    "    if np.abs(W) > z_alpha:\n",
    "        count += 1\n",
    "\n",
    "print(count)"
   ]
  },
  {
   "cell_type": "code",
   "execution_count": 33,
   "metadata": {},
   "outputs": [],
   "source": [
    "%reset -f"
   ]
  }
 ],
 "metadata": {
  "kernelspec": {
   "display_name": "ai",
   "language": "python",
   "name": "python3"
  },
  "language_info": {
   "codemirror_mode": {
    "name": "ipython",
    "version": 3
   },
   "file_extension": ".py",
   "mimetype": "text/x-python",
   "name": "python",
   "nbconvert_exporter": "python",
   "pygments_lexer": "ipython3",
   "version": "3.11.4"
  },
  "orig_nbformat": 4
 },
 "nbformat": 4,
 "nbformat_minor": 2
}
