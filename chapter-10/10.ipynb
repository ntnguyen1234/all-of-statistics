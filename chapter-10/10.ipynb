{
 "cells": [
  {
   "cell_type": "code",
   "execution_count": null,
   "metadata": {},
   "outputs": [],
   "source": [
    "import pandas as pd\n",
    "from scipy.stats import chi2\n",
    "\n",
    "df = pd.DataFrame({\n",
    "    'Chinese': [55, 33, 70, 49],\n",
    "    'Jewish':  [141, 145, 139, 161]\n",
    "}, index=[-2, -1, 1, 2])\n",
    "\n",
    "alpha = 0.05"
   ]
  },
  {
   "cell_type": "code",
   "execution_count": 31,
   "metadata": {},
   "outputs": [
    {
     "name": "stdout",
     "output_type": "stream",
     "text": [
      "0.031189315815832952\n"
     ]
    }
   ],
   "source": [
    "# Chinese\n",
    "X_1 = df['Chinese'].loc[[-2,-1]].sum()\n",
    "X_2 = df['Chinese'].loc[[1,2]].sum()\n",
    "n = X_1 + X_2\n",
    "\n",
    "T = (X_1 - n*1/2)**2/(n*1/2) + (X_2 - n*1/2)**2/(n*1/2)\n",
    "p_val = 1 - chi2.cdf(T, 1)\n",
    "print(p_val)"
   ]
  },
  {
   "cell_type": "code",
   "execution_count": 32,
   "metadata": {},
   "outputs": [
    {
     "name": "stdout",
     "output_type": "stream",
     "text": [
      "0.5630381920125986\n"
     ]
    }
   ],
   "source": [
    "# Jewish\n",
    "X_1 = df['Jewish'].loc[[-2,-1]].sum()\n",
    "X_2 = df['Jewish'].loc[[1,2]].sum()\n",
    "n = X_1 + X_2\n",
    "\n",
    "T = (X_1 - n*1/2)**2/(n*1/2) + (X_2 - n*1/2)**2/(n*1/2)\n",
    "p_val = 1 - chi2.cdf(T, 1)\n",
    "print(p_val)"
   ]
  },
  {
   "cell_type": "code",
   "execution_count": 33,
   "metadata": {},
   "outputs": [],
   "source": [
    "%reset -f"
   ]
  }
 ],
 "metadata": {
  "kernelspec": {
   "display_name": "ai",
   "language": "python",
   "name": "python3"
  },
  "language_info": {
   "codemirror_mode": {
    "name": "ipython",
    "version": 3
   },
   "file_extension": ".py",
   "mimetype": "text/x-python",
   "name": "python",
   "nbconvert_exporter": "python",
   "pygments_lexer": "ipython3",
   "version": "3.11.4"
  },
  "orig_nbformat": 4
 },
 "nbformat": 4,
 "nbformat_minor": 2
}
