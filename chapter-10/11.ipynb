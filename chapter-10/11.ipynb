{
 "cells": [
  {
   "cell_type": "code",
   "execution_count": 33,
   "metadata": {},
   "outputs": [
    {
     "name": "stdout",
     "output_type": "stream",
     "text": [
      "                        Number of patients  Incidents of Nausea\n",
      "Placebo                                 80                   45\n",
      "Chlorpromazine                          75                   26\n",
      "Dimenhydrate                            85                   52\n",
      "Pentobarbital (100 mg)                  67                   35\n",
      "Pentobarbital (150 mg)                  85                   37\n"
     ]
    }
   ],
   "source": [
    "import pandas as pd\n",
    "import numpy as np\n",
    "\n",
    "df = pd.DataFrame({\n",
    "    'Number of patients': [80, 75, 85, 67, 85],\n",
    "    'Incidents of Nausea': [45, 26, 52, 35, 37]\n",
    "}, index=['Placebo', 'Chlorpromazine', 'Dimenhydrate', 'Pentobarbital (100 mg)', 'Pentobarbital (150 mg)'])\n",
    "\n",
    "print(df)"
   ]
  },
  {
   "cell_type": "code",
   "execution_count": 34,
   "metadata": {},
   "outputs": [
    {
     "name": "stdout",
     "output_type": "stream",
     "text": [
      "                        Number of patients  Incidents of Nausea     p_hat  \\\n",
      "Chlorpromazine                          75                   26  0.346667   \n",
      "Dimenhydrate                            85                   52  0.611765   \n",
      "Pentobarbital (100 mg)                  67                   35  0.522388   \n",
      "Pentobarbital (150 mg)                  85                   37  0.435294   \n",
      "\n",
      "                             var  Wald statistics   p-value      Odds  \\\n",
      "Chlorpromazine          0.003020        -2.764364  0.005703  0.530612   \n",
      "Dimenhydrate            0.002794         0.642987  0.520232  1.575758   \n",
      "Pentobarbital (100 mg)  0.003724        -0.486428  0.626664  1.093750   \n",
      "Pentobarbital (150 mg)  0.002892        -1.646605  0.099639  0.770833   \n",
      "\n",
      "                        Odds ratio  \n",
      "Chlorpromazine            2.423077  \n",
      "Dimenhydrate              0.815934  \n",
      "Pentobarbital (100 mg)    1.175510  \n",
      "Pentobarbital (150 mg)    1.667954  \n"
     ]
    }
   ],
   "source": [
    "from scipy.stats import norm\n",
    "\n",
    "df['p_hat'] = df['Incidents of Nausea'] / df['Number of patients']\n",
    "df['var'] = df['p_hat'] * (1-df['p_hat']) / df['Number of patients']\n",
    "\n",
    "# Wald statistics\n",
    "df['Wald statistics'] = (df['p_hat'] - df['p_hat']['Placebo']) / np.sqrt( df['var']['Placebo'] + df['var'] )\n",
    "df['p-value'] = 2 * norm.cdf(-df['Wald statistics'].abs())\n",
    "\n",
    "# Odds = incident / not = p / 1-p\n",
    "df['Odds'] = df['p_hat'] / (1 - df['p_hat'])\n",
    "\n",
    "# Odds ratio = odds placebo / odds treatment\n",
    "df['Odds ratio'] = df['Odds']['Placebo'] / df['Odds']\n",
    "\n",
    "print(df.loc[df.index.difference(['Placebo'])])"
   ]
  },
  {
   "cell_type": "code",
   "execution_count": 35,
   "metadata": {},
   "outputs": [],
   "source": [
    "%reset -f"
   ]
  }
 ],
 "metadata": {
  "kernelspec": {
   "display_name": "ai",
   "language": "python",
   "name": "python3"
  },
  "language_info": {
   "codemirror_mode": {
    "name": "ipython",
    "version": 3
   },
   "file_extension": ".py",
   "mimetype": "text/x-python",
   "name": "python",
   "nbconvert_exporter": "python",
   "pygments_lexer": "ipython3",
   "version": "3.11.4"
  },
  "orig_nbformat": 4
 },
 "nbformat": 4,
 "nbformat_minor": 2
}
