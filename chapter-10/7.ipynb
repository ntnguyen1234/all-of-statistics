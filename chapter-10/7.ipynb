{
 "cells": [
  {
   "cell_type": "code",
   "execution_count": 82,
   "metadata": {},
   "outputs": [
    {
     "name": "stdout",
     "output_type": "stream",
     "text": [
      "0.00021260028225810121\n",
      "0.022175\n",
      "(0.010439729850154362, 0.03391027014984564)\n"
     ]
    }
   ],
   "source": [
    "import numpy as np\n",
    "from scipy import stats as st\n",
    "\n",
    "X = np.array([0.225, 0.262, 0.217, 0.240, 0.230, 0.229, 0.235, 0.217])\n",
    "Y = np.array([0.209, 0.205, 0.196, 0.210, 0.202, 0.207, 0.224, 0.223, 0.220, 0.201])\n",
    "\n",
    "x_hat = X.mean()\n",
    "y_hat = Y.mean()\n",
    "\n",
    "theta_hat = np.abs(x_hat - y_hat)\n",
    "se_hat = np.sqrt( X.var(ddof=1)/len(X) + Y.var(ddof=1)/len(Y) )\n",
    "\n",
    "alpha = 0.05\n",
    "z_alpha2 = st.norm.ppf(1-alpha/2)\n",
    "\n",
    "w = theta_hat / se_hat\n",
    "p_value = 2*st.norm.cdf(-np.abs(w))\n",
    "\n",
    "ci = (theta_hat - z_alpha2*se_hat, theta_hat + z_alpha2*se_hat)\n",
    "\n",
    "print(p_value)\n",
    "print(theta_hat)\n",
    "print(ci)"
   ]
  },
  {
   "cell_type": "code",
   "execution_count": 83,
   "metadata": {},
   "outputs": [
    {
     "data": {
      "application/vnd.jupyter.widget-view+json": {
       "model_id": "176883f3d789403d96508d9c0777d0c4",
       "version_major": 2,
       "version_minor": 0
      },
      "text/plain": [
       "  0%|          | 0/100000 [00:00<?, ?it/s]"
      ]
     },
     "metadata": {},
     "output_type": "display_data"
    },
    {
     "name": "stdout",
     "output_type": "stream",
     "text": [
      "0.00079\n"
     ]
    }
   ],
   "source": [
    "from tqdm.notebook import tqdm\n",
    "\n",
    "def e_mean(A: np.ndarray):\n",
    "    return np.einsum('ij->i', A)/A.shape[1]\n",
    "\n",
    "def e_var(A: np.ndarray):\n",
    "    # Rowwise mean of input arrays & subtract from input arrays themeselves\n",
    "    A_mu = A - e_mean(A)[:, None]\n",
    "\n",
    "    return np.einsum('ij,ij->i', A_mu, A_mu)/(A.shape[1] - 1)\n",
    "\n",
    "T_obs = np.concatenate((X, Y))\n",
    "\n",
    "n = len(T_obs)\n",
    "B = 1_000_00\n",
    "\n",
    "# T = np.zeros((B, n))\n",
    "count = 0\n",
    "for i in tqdm(range(B)):\n",
    "    rng = np.random.default_rng(i)\n",
    "    T = rng.permutation(T_obs)\n",
    "    theta_T = np.abs(np.mean(T[:len(X)]) - np.mean(T[len(X):]))\n",
    "    if theta_T > theta_hat:\n",
    "        count += 1\n",
    "\n",
    "print(count / B)\n",
    "# T_X = T[:, :len(X)]\n",
    "# T_Y = T[:, len(X):]\n",
    "\n",
    "# theta_T = e_mean(T_X) - e_mean(T_Y)\n",
    "# se_T = np.sqrt( e_var(T_X)/len(X) + e_var(T_Y)/len(Y) )\n",
    "\n",
    "# print(np.mean(theta_T > theta_hat))"
   ]
  },
  {
   "cell_type": "code",
   "execution_count": null,
   "metadata": {},
   "outputs": [],
   "source": [
    "%reset -f"
   ]
  }
 ],
 "metadata": {
  "kernelspec": {
   "display_name": "ai",
   "language": "python",
   "name": "python3"
  },
  "language_info": {
   "codemirror_mode": {
    "name": "ipython",
    "version": 3
   },
   "file_extension": ".py",
   "mimetype": "text/x-python",
   "name": "python",
   "nbconvert_exporter": "python",
   "pygments_lexer": "ipython3",
   "version": "3.11.4"
  },
  "orig_nbformat": 4
 },
 "nbformat": 4,
 "nbformat_minor": 2
}
