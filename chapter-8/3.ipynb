{
 "cells": [
  {
   "cell_type": "code",
   "execution_count": 8,
   "metadata": {},
   "outputs": [
    {
     "data": {
      "application/vnd.jupyter.widget-view+json": {
       "model_id": "9885795d2e65450cb21d2f93a982faa9",
       "version_major": 2,
       "version_minor": 0
      },
      "text/plain": [
       "  0%|          | 0/1000 [00:00<?, ?it/s]"
      ]
     },
     "metadata": {},
     "output_type": "display_data"
    },
    {
     "name": "stdout",
     "output_type": "stream",
     "text": [
      "0.95\n",
      "0.967\n",
      "0.827\n"
     ]
    }
   ],
   "source": [
    "import numpy as np\n",
    "import scipy.stats as st\n",
    "from tqdm.notebook import tqdm\n",
    "\n",
    "def coverage(band: np.ndarray, true_value: float) -> float:\n",
    "    return np.mean(np.logical_and(band[0, :] <= true_value, band[1, :] >= true_value))\n",
    "\n",
    "def cis(boot: np.ndarray, theta_hat: float, se_boot: float, alpha: float = 0.05):\n",
    "    z = st.norm.ppf(1 - alpha/2)\n",
    "\n",
    "    quantile_low = np.quantile(boot, alpha/2)\n",
    "    quantile_top = np.quantile(boot, 1 - alpha/2)\n",
    "\n",
    "    # Normal CI\n",
    "    normal_ci = (theta_hat - z*se_boot, theta_hat + z*se_boot)\n",
    "\n",
    "    # Percentile CI\n",
    "    percentile_ci = (quantile_low, quantile_top)\n",
    "\n",
    "    # Pivotal CI\n",
    "    pivotal_ci = (2*theta_hat - quantile_top, 2*theta_hat - quantile_low)\n",
    "\n",
    "    return normal_ci, percentile_ci, pivotal_ci\n",
    "\n",
    "B = 1000\n",
    "n = 25\n",
    "n_exp = 1000\n",
    "\n",
    "# True value\n",
    "theta = (st.t.ppf(.75, df=3) - st.t.ppf(.25, df=3))/1.34\n",
    "\n",
    "normal_band = np.zeros((2, n_exp))\n",
    "percentile_band = np.zeros((2, n_exp))\n",
    "pivot_band = np.zeros((2, n_exp))\n",
    "\n",
    "for i in tqdm(range(n_exp)):\n",
    "    X = st.t.rvs(3, size=n, random_state=i)\n",
    "\n",
    "    theta_hat = (np.quantile(X, .75) - np.quantile(X, .25))/1.34\n",
    "\n",
    "    xx = np.random.choice(X, size=(B,n), replace=True)\n",
    "    boot: np.ndarray = ( np.quantile(xx, q=.75, axis=1) - np.quantile(xx, q=.25, axis=1) )/1.34\n",
    "    se_boot = boot.std()\n",
    "\n",
    "    # Confidence intervals\n",
    "    all_cis = cis(boot, theta_hat, se_boot)\n",
    "\n",
    "    normal_band[:, i] = all_cis[0]\n",
    "    percentile_band[:, i] = all_cis[1]\n",
    "    pivot_band[:, i] = all_cis[2]\n",
    "\n",
    "ci_bands = [\n",
    "    normal_band,\n",
    "    percentile_band,\n",
    "    pivot_band\n",
    "]\n",
    "\n",
    "for ci_band in ci_bands:\n",
    "    print(coverage(ci_band, theta))"
   ]
  }
 ],
 "metadata": {
  "kernelspec": {
   "display_name": "ai",
   "language": "python",
   "name": "python3"
  },
  "language_info": {
   "codemirror_mode": {
    "name": "ipython",
    "version": 3
   },
   "file_extension": ".py",
   "mimetype": "text/x-python",
   "name": "python",
   "nbconvert_exporter": "python",
   "pygments_lexer": "ipython3",
   "version": "3.11.4"
  },
  "orig_nbformat": 4
 },
 "nbformat": 4,
 "nbformat_minor": 2
}
