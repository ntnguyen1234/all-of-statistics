{
 "cells": [
  {
   "cell_type": "code",
   "execution_count": 50,
   "metadata": {},
   "outputs": [
    {
     "name": "stdout",
     "output_type": "stream",
     "text": [
      "2.226959915173402\n",
      "0.483657127824893\n",
      "(1.2790093637705264, 3.1749104665762773)\n",
      "(1.3297228178532137, 3.2386798688082434)\n",
      "(1.2152399615385603, 3.12419701249359)\n"
     ]
    }
   ],
   "source": [
    "import numpy as np\n",
    "import scipy.stats as st\n",
    "\n",
    "\n",
    "def skewness(x: np.ndarray):\n",
    "    x_mu = x - x.mean()\n",
    "    sigma_hat = np.sqrt( np.mean(x_mu**2) )\n",
    "    \n",
    "    return np.mean( x_mu**3 ) / sigma_hat**3\n",
    "\n",
    "def skewness2(A: np.ndarray) -> np.ndarray:\n",
    "    c_num = A.shape[1]\n",
    "\n",
    "    # Rowwise mean of input arrays & subtract from input arrays themeselves\n",
    "    A_mu = A - A.mean(axis=1)[:, None]\n",
    "\n",
    "    # Sigma across rows\n",
    "    sigma_A = np.sqrt( np.einsum('ij,ij->i', A_mu, A_mu) / c_num )\n",
    "\n",
    "    return 1/c_num * np.einsum('ij,ij,ij->i', A_mu, A_mu, A_mu) / sigma_A**3\n",
    "\n",
    "def cis(boot: np.ndarray, theta_hat: float, se_boot: float, alpha: float = 0.05):\n",
    "    z = st.norm.ppf(1 - alpha/2)\n",
    "\n",
    "    quantile_low = np.quantile(boot, alpha/2)\n",
    "    quantile_top = np.quantile(boot, 1 - alpha/2)\n",
    "\n",
    "    # Normal CI\n",
    "    normal_ci = (theta_hat - z*se_boot, theta_hat + z*se_boot)\n",
    "\n",
    "    # Percentile CI\n",
    "    percentile_ci = (quantile_low, quantile_top)\n",
    "\n",
    "    # Pivotal CI\n",
    "    pivotal_ci = (2*theta_hat - quantile_top, 2*theta_hat - quantile_low)\n",
    "\n",
    "    return normal_ci, percentile_ci, pivotal_ci\n",
    "\n",
    "n = 50\n",
    "B = 1000\n",
    "\n",
    "Y = st.norm.rvs(size=n, random_state=42)\n",
    "X = np.exp(Y)\n",
    "\n",
    "theta_hat = st.skew(X) # or skewness(X)\n",
    "print(theta_hat)\n",
    "\n",
    "# Bootstrap\n",
    "rng = np.random.default_rng(42)\n",
    "xx = rng.choice(X, size=(B,n), replace=True)\n",
    "\n",
    "skew_boot = skewness2(xx)\n",
    "se_boot = skew_boot.std()\n",
    "print(se_boot)\n",
    "\n",
    "# Confidence intervals:\n",
    "for ci in cis(skew_boot, theta_hat, se_boot):\n",
    "    print(ci)"
   ]
  },
  {
   "cell_type": "code",
   "execution_count": 51,
   "metadata": {},
   "outputs": [
    {
     "data": {
      "application/vnd.jupyter.widget-view+json": {
       "model_id": "258f0f4724d3451d9b1dccffaaed31b6",
       "version_major": 2,
       "version_minor": 0
      },
      "text/plain": [
       "  0%|          | 0/1000 [00:00<?, ?it/s]"
      ]
     },
     "metadata": {},
     "output_type": "display_data"
    },
    {
     "name": "stdout",
     "output_type": "stream",
     "text": [
      "0.139\n",
      "0.027\n",
      "0.175\n"
     ]
    }
   ],
   "source": [
    "from tqdm.notebook import tqdm\n",
    "\n",
    "def coverage(band: np.ndarray, true_value: float) -> float:\n",
    "    return np.mean(np.logical_and(band[0, :] <= true_value, band[1, :] >= true_value))\n",
    "    \n",
    "skew_true = (np.exp(1) + 2)*np.sqrt(np.exp(1)-1)\n",
    "\n",
    "n_exp = 1000\n",
    "\n",
    "normal_band = np.zeros((2, n_exp))\n",
    "percentile_band = np.zeros((2, n_exp))\n",
    "pivot_band = np.zeros((2, n_exp))\n",
    "\n",
    "for i in tqdm(range(n_exp)):\n",
    "    Y = st.norm.rvs(size=n, random_state=i)\n",
    "    X = np.exp(Y)\n",
    "\n",
    "    theta_hat = st.skew(X) # or skewness(X)\n",
    "    \n",
    "    # Bootstrap\n",
    "    # rng = np.random.default_rng(i)\n",
    "    # xx = rng.choice(X, size=(B,n), replace=True)\n",
    "    xx = np.random.choice(X, size=(B,n), replace=True)\n",
    "\n",
    "    skew_boot = skewness2(xx)\n",
    "    se_boot = skew_boot.std()\n",
    "\n",
    "    # Confidence intervals\n",
    "    all_cis = cis(skew_boot, theta_hat, se_boot)\n",
    "\n",
    "    normal_band[:, i] = all_cis[0]\n",
    "    percentile_band[:, i] = all_cis[1]\n",
    "    pivot_band[:, i] = all_cis[2]\n",
    "\n",
    "ci_bands = [\n",
    "    normal_band,\n",
    "    percentile_band,\n",
    "    pivot_band\n",
    "]\n",
    "\n",
    "for ci_band in ci_bands:\n",
    "    print(coverage(ci_band, skew_true))"
   ]
  }
 ],
 "metadata": {
  "kernelspec": {
   "display_name": "ai",
   "language": "python",
   "name": "python3"
  },
  "language_info": {
   "codemirror_mode": {
    "name": "ipython",
    "version": 3
   },
   "file_extension": ".py",
   "mimetype": "text/x-python",
   "name": "python",
   "nbconvert_exporter": "python",
   "pygments_lexer": "ipython3",
   "version": "3.11.4"
  },
  "orig_nbformat": 4
 },
 "nbformat": 4,
 "nbformat_minor": 2
}
