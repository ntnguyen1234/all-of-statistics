{
 "cells": [
  {
   "cell_type": "code",
   "execution_count": 9,
   "metadata": {},
   "outputs": [
    {
     "name": "stdout",
     "output_type": "stream",
     "text": [
      "0.5459189161795885\n",
      "0.19260145776428217\n",
      "(0.16842699559168312, 0.923410836767494)\n",
      "(0.19331875643839896, 0.9387076980820954)\n",
      "(0.15313013427708166, 0.8985190759207782)\n"
     ]
    }
   ],
   "source": [
    "import numpy as np\n",
    "import pandas as pd\n",
    "import scipy.stats as st\n",
    "\n",
    "np.random.seed(42)\n",
    "\n",
    "def corr(x: np.ndarray, y: np.ndarray) -> np.ndarray:\n",
    "    x_mu = x - x.mean()\n",
    "    y_mu = y - y.mean()\n",
    "\n",
    "    return np.dot(x_mu, y_mu)/np.sqrt( np.sum(x_mu**2) * np.sum(y_mu**2) )\n",
    "\n",
    "def corr2(A: np.ndarray, B: np.ndarray) -> np.ndarray:\n",
    "    # Rowwise mean of input arrays & subtract from input arrays themeselves\n",
    "    A_mu = A - A.mean(1)[:, None]\n",
    "    B_mu = B - B.mean(1)[:, None]\n",
    "\n",
    "    # Sum of squares across rows\n",
    "    ssA = np.einsum('ij,ij->i', A_mu, A_mu)\n",
    "    ssB = np.einsum('ij,ij->i', B_mu, B_mu)\n",
    "\n",
    "    return np.einsum('ij,ij->i', A_mu, B_mu) / np.sqrt(ssA*ssB)\n",
    "\n",
    "def cis(boot: np.ndarray, theta_hat: float, se_boot: float, alpha: float = 0.05):\n",
    "    z = st.norm.ppf(1 - alpha/2)\n",
    "\n",
    "    quantile_low = np.quantile(boot, alpha/2)\n",
    "    quantile_top = np.quantile(boot, 1 - alpha/2)\n",
    "\n",
    "    # Normal CI\n",
    "    normal_ci = (theta_hat - z*se_boot, theta_hat + z*se_boot)\n",
    "\n",
    "    # Percentile CI\n",
    "    percentile_ci = (quantile_low, quantile_top)\n",
    "\n",
    "    # Pivotal CI\n",
    "    pivotal_ci = (2*theta_hat - quantile_top, 2*theta_hat - quantile_low)\n",
    "\n",
    "    return normal_ci, percentile_ci, pivotal_ci\n",
    "\n",
    "data = pd.read_csv('lsat-gpa.csv')\n",
    "\n",
    "X = data['LSAT'].to_numpy()\n",
    "Y = data['GPA'].to_numpy()\n",
    "\n",
    "# Estimated correlation\n",
    "theta_hat = corr(X, Y)\n",
    "print(theta_hat)\n",
    "\n",
    "# Bootstrap\n",
    "B = 1000\n",
    "n = len(X)\n",
    "\n",
    "idx = np.random.choice(np.arange(n), size=(B, n), replace=True)\n",
    "xx = X[idx]\n",
    "yy = Y[idx]\n",
    "\n",
    "theta_boot = corr2(xx, yy)\n",
    "\n",
    "# Estimated standard error\n",
    "se_boot = theta_boot.std()\n",
    "print(se_boot)\n",
    "\n",
    "# Confidence intervals\n",
    "for ci in cis(theta_boot, theta_hat, se_boot):\n",
    "    print(ci)"
   ]
  }
 ],
 "metadata": {
  "kernelspec": {
   "display_name": "ai",
   "language": "python",
   "name": "python3"
  },
  "language_info": {
   "codemirror_mode": {
    "name": "ipython",
    "version": 3
   },
   "file_extension": ".py",
   "mimetype": "text/x-python",
   "name": "python",
   "nbconvert_exporter": "python",
   "pygments_lexer": "ipython3",
   "version": "3.11.4"
  },
  "orig_nbformat": 4
 },
 "nbformat": 4,
 "nbformat_minor": 2
}
