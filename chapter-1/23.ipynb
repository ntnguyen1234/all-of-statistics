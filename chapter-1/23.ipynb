{
 "cells": [
  {
   "cell_type": "code",
   "execution_count": 22,
   "metadata": {},
   "outputs": [
    {
     "name": "stdout",
     "output_type": "stream",
     "text": [
      "0.002559999999999951\n"
     ]
    }
   ],
   "source": [
    "from random import choices\n",
    "\n",
    "def dietoss(n: int) -> float:\n",
    "    \"\"\"Return the difference between P(A)P(B) and P(AB)\n",
    "\n",
    "    Args:\n",
    "        n: Number of tossing times\n",
    "\n",
    "    \"\"\"\n",
    "    # Sample space\n",
    "    space = list(range(1, 7))\n",
    "\n",
    "    # Events A, B and AB\n",
    "    a = {2, 4, 6}\n",
    "    b = {1, 2, 3, 4}\n",
    "    ab = {2, 4}\n",
    "\n",
    "    # Number of die sides in each event\n",
    "    total_a = 0\n",
    "    total_b = 0\n",
    "    total_ab = 0\n",
    "\n",
    "    xs = choices(space, k=n)\n",
    "    for x in xs:\n",
    "        if x in a:\n",
    "            total_a += 1\n",
    "        if x in b:\n",
    "            total_b += 1\n",
    "        if x in ab:\n",
    "            total_ab += 1\n",
    "\n",
    "    p_a = total_a / n\n",
    "    p_b = total_b / n\n",
    "    p_ab = total_ab / n\n",
    "    \n",
    "    return abs(p_a * p_b - p_ab)\n",
    "\n",
    "n = 1000\n",
    "\n",
    "y = dietoss(n)\n",
    "print(y)"
   ]
  }
 ],
 "metadata": {
  "kernelspec": {
   "display_name": "ai",
   "language": "python",
   "name": "python3"
  },
  "language_info": {
   "codemirror_mode": {
    "name": "ipython",
    "version": 3
   },
   "file_extension": ".py",
   "mimetype": "text/x-python",
   "name": "python",
   "nbconvert_exporter": "python",
   "pygments_lexer": "ipython3",
   "version": "3.11.2"
  },
  "orig_nbformat": 4
 },
 "nbformat": 4,
 "nbformat_minor": 2
}
