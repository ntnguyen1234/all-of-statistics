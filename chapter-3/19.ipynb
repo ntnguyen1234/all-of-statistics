{
 "cells": [
  {
   "cell_type": "code",
   "execution_count": 92,
   "metadata": {},
   "outputs": [
    {
     "name": "stdout",
     "output_type": "stream",
     "text": [
      "0.0017966340730757868\n",
      "0.007340465992040707\n"
     ]
    }
   ],
   "source": [
    "import numpy as np\n",
    "\n",
    "# n IID rvs\n",
    "n = 100\n",
    "\n",
    "# Number of samples\n",
    "samples = 1000\n",
    "\n",
    "# Sampling with Unif(0,1)\n",
    "x_i = np.random.uniform(0, 1, (samples, n))\n",
    "\n",
    "# X_n\n",
    "x_bar: np.ndarray = np.mean(x_i, axis=1)\n",
    "\n",
    "# E(X_n)\n",
    "x_mean = x_bar.mean()\n",
    "# V(X_n)\n",
    "x_var = np.linalg.norm(x_bar - x_mean)**2/n\n",
    "\n",
    "# Difference between theoretical and simulated\n",
    "mean_dif = abs(x_mean - 1/2)\n",
    "var_dif = abs(x_var - 1/(12*n))\n",
    "print(mean_dif)\n",
    "print(var_dif)"
   ]
  },
  {
   "cell_type": "code",
   "execution_count": null,
   "metadata": {},
   "outputs": [],
   "source": []
  }
 ],
 "metadata": {
  "kernelspec": {
   "display_name": "ai",
   "language": "python",
   "name": "python3"
  },
  "language_info": {
   "codemirror_mode": {
    "name": "ipython",
    "version": 3
   },
   "file_extension": ".py",
   "mimetype": "text/x-python",
   "name": "python",
   "nbconvert_exporter": "python",
   "pygments_lexer": "ipython3",
   "version": "3.11.4"
  },
  "orig_nbformat": 4
 },
 "nbformat": 4,
 "nbformat_minor": 2
}
