{
 "cells": [
  {
   "cell_type": "code",
   "execution_count": 206,
   "metadata": {},
   "outputs": [],
   "source": [
    "import numpy as np\n",
    "import pandas as pd\n",
    "from numba import jit, njit\n",
    "from scipy.special import expit, logit\n",
    "\n",
    "df = pd.read_csv('spam.data', engine='pyarrow', sep=' ', header=None)\n",
    "X = df.iloc[:, :-1].to_numpy()\n",
    "Y = df.iloc[:, -1].to_numpy(dtype=np.int8)\n",
    "\n",
    "# X_scale = (X-X.mean(axis=0))/X.std(axis=0)\n",
    "X_scale = X"
   ]
  },
  {
   "cell_type": "code",
   "execution_count": 207,
   "metadata": {},
   "outputs": [],
   "source": [
    "@njit()\n",
    "def sigmoid(x: np.ndarray):\n",
    "    return np.exp(-np.logaddexp(0, -x))\n",
    "\n",
    "@njit()\n",
    "def confusion_matrix(true, pred):\n",
    "  '''Computes a confusion matrix using numpy for two np.arrays\n",
    "  true and pred.\n",
    "\n",
    "  Results are identical (and similar in computation time) to: \n",
    "    \"from sklearn.metrics import confusion_matrix\"\n",
    "\n",
    "  However, this function avoids the dependency on sklearn.'''\n",
    "\n",
    "  K = len(np.unique(true)) # Number of classes \n",
    "  result = np.zeros((K, K), dtype=np.int32)\n",
    "\n",
    "  for i in range(len(true)):\n",
    "    result[true[i]][pred[i]] += 1\n",
    "\n",
    "  return result"
   ]
  },
  {
   "cell_type": "code",
   "execution_count": 208,
   "metadata": {},
   "outputs": [],
   "source": [
    "@njit()\n",
    "def discriminant_func(X: np.ndarray, S_inv: np.ndarray, mu_j: np.ndarray, pi_j: float):\n",
    "    return X @ S_inv @ mu_j - 1/2 * mu_j.T @ S_inv @ mu_j + np.log(pi_j)\n",
    "\n",
    "@njit()\n",
    "def qda_func(X: np.ndarray, S: np.ndarray, mu_j: np.ndarray, pi_j: float):\n",
    "    S_inv = np.linalg.inv(S)\n",
    "\n",
    "    r_j2 = np.sum(((X-mu_j) @ S_inv) * (X-mu_j), axis=1)\n",
    "    return -1/2*np.log(np.linalg.det(S)) - 1/2*r_j2 + np.log(pi_j), r_j2\n",
    "\n",
    "def discrinimant_analysis(X: np.ndarray, Y: np.ndarray, atype: str='LDA'):\n",
    "    n = len(Y)\n",
    "    n_0 = (1-Y).sum()\n",
    "    n_1 = Y.sum()\n",
    "\n",
    "    pi_0 = n_0/n\n",
    "    pi_1 = n_1/n\n",
    "\n",
    "    X_0 = X[Y == 0, :]\n",
    "    X_1 = X[Y == 1, :]\n",
    "\n",
    "    mu_0 = X_0.mean(axis=0, keepdims=True)\n",
    "    mu_1 = X_1.mean(axis=0, keepdims=True)\n",
    "\n",
    "    S_0 = ((X_0 - mu_0).T @ (X_0 - mu_0))/n_0\n",
    "    S_1 = ((X_1 - mu_1).T @ (X_1 - mu_1))/n_1\n",
    "\n",
    "    if atype == 'LDA':\n",
    "        S = (n_0*S_0 + n_1*S_1)/n\n",
    "        S_inv = np.linalg.inv(S)\n",
    "        \n",
    "        delta_0 = discriminant_func(X, S_inv, mu_0.T, pi_0)\n",
    "        delta_1 = discriminant_func(X, S_inv, mu_1.T, pi_1)\n",
    "\n",
    "        return np.squeeze(delta_1 > delta_0)*1\n",
    "    else:\n",
    "        delta_0, r_02 = qda_func(X, S_0, mu_0, pi_0)\n",
    "        delta_1, r_12 = qda_func(X, S_1, mu_1, pi_1)\n",
    "\n",
    "        return (r_12 < r_02 + 2*np.log(pi_1/pi_0) + np.log(np.linalg.det(S_0)/np.linalg.det(S_1)))*1"
   ]
  },
  {
   "cell_type": "code",
   "execution_count": 209,
   "metadata": {},
   "outputs": [],
   "source": [
    "# Y_lda = discrinimant_analysis(X, Y)\n",
    "# lda_mat = confusion_matrix(Y, Y_lda)\n",
    "# lda_mat"
   ]
  },
  {
   "cell_type": "code",
   "execution_count": 210,
   "metadata": {},
   "outputs": [],
   "source": [
    "# Y_qda = discrinimant_analysis(X, Y, atype='QDA')\n",
    "# qda_mat = confusion_matrix(Y, Y_qda)\n",
    "# qda_mat"
   ]
  },
  {
   "cell_type": "code",
   "execution_count": 211,
   "metadata": {},
   "outputs": [],
   "source": [
    "def logistic_func(X: np.ndarray, beta_j: np.ndarray):\n",
    "    X1 = np.insert(X, 0, 1, axis=1)\n",
    "    return expit(X1 @ beta_j)\n",
    "\n",
    "def logistic_regression(X: np.ndarray, Y: np.ndarray, beta_j: np.ndarray, p_j: np.ndarray):\n",
    "    diag_W = p_j*(1-p_j)\n",
    "    logit_j = X @ beta_j\n",
    "    Z = logit_j + (Y - p_j)/diag_W\n",
    "    W = np.diag(diag_W.squeeze())\n",
    "\n",
    "    # Negative Log-likelihood\n",
    "    L = -(Y*logit_j - np.log( 1 + np.exp(logit_j) )).sum()\n",
    "\n",
    "    X_inv = np.linalg.inv( X.T @ W @ X )\n",
    "\n",
    "    return X_inv @ X.T @ W @ Z, L"
   ]
  },
  {
   "cell_type": "code",
   "execution_count": 212,
   "metadata": {},
   "outputs": [
    {
     "name": "stdout",
     "output_type": "stream",
     "text": [
      "inf\n",
      "1547.9353754372644\n",
      "369.1347890639936\n",
      "176.23590434739685\n",
      "97.33682202400041\n",
      "46.83403577376623\n",
      "21.548708087765363\n",
      "12.186396835217693\n",
      "6.764403190691951\n",
      "2.6159881829055394\n",
      "0.5898500300313572\n",
      "0.10119832043233146\n",
      "0.003966714305192909\n",
      "9.990584430852323e-07\n",
      "2.2737367544323206e-13\n"
     ]
    }
   ],
   "source": [
    "X1 = np.insert(X_scale, 0, 1, axis=1)\n",
    "if len(Y.shape) == 1:\n",
    "    Y1 = np.expand_dims(Y, axis=1)\n",
    "else:\n",
    "    Y1 = Y\n",
    "\n",
    "beta_hat = np.zeros((X1.shape[1], 1))\n",
    "p_hat = expit(X1 @ beta_hat)\n",
    "\n",
    "L_old = L_new = L_diff = np.inf\n",
    "tol = 1e-9\n",
    "\n",
    "while L_diff > tol:\n",
    "    L_old = L_new\n",
    "    beta_hat, L_new = logistic_regression(X1, Y1, beta_hat, p_hat)\n",
    "    p_hat: np.ndarray = expit(X1 @ beta_hat)\n",
    "    p_hat[p_hat == 1.0] = 1-tol\n",
    "    L_diff = np.abs(L_old - L_new)\n",
    "    print(L_diff)\n",
    "    "
   ]
  },
  {
   "cell_type": "code",
   "execution_count": 213,
   "metadata": {},
   "outputs": [
    {
     "name": "stdout",
     "output_type": "stream",
     "text": [
      "[[2666  122]\n",
      " [ 194 1619]]\n"
     ]
    }
   ],
   "source": [
    "Y_pred = 1*(p_hat>0.5).squeeze()\n",
    "print(confusion_matrix(Y.squeeze(), Y_pred))"
   ]
  },
  {
   "cell_type": "code",
   "execution_count": 214,
   "metadata": {},
   "outputs": [],
   "source": [
    "%reset -f"
   ]
  }
 ],
 "metadata": {
  "kernelspec": {
   "display_name": "ai",
   "language": "python",
   "name": "python3"
  },
  "language_info": {
   "codemirror_mode": {
    "name": "ipython",
    "version": 3
   },
   "file_extension": ".py",
   "mimetype": "text/x-python",
   "name": "python",
   "nbconvert_exporter": "python",
   "pygments_lexer": "ipython3",
   "version": "3.12.1"
  }
 },
 "nbformat": 4,
 "nbformat_minor": 2
}
