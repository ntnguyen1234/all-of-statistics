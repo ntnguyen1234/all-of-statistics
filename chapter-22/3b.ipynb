{
 "cells": [
  {
   "cell_type": "code",
   "execution_count": 136,
   "metadata": {},
   "outputs": [],
   "source": [
    "import numpy as np\n",
    "import pandas as pd\n",
    "from numba import jit, njit\n",
    "from scipy.special import expit, logit\n",
    "\n",
    "df = pd.read_csv('spam.data', engine='pyarrow', sep=' ', header=None)\n",
    "X = df.iloc[:, :-1].to_numpy()\n",
    "Y = df.iloc[:, -1].to_numpy(dtype=np.int8)"
   ]
  },
  {
   "cell_type": "code",
   "execution_count": 137,
   "metadata": {},
   "outputs": [],
   "source": [
    "from sklearn.model_selection import KFold\n",
    "\n",
    "\n",
    "def run_classifier(classifier, X: np.ndarray, Y: np.ndarray, n_splits: int=5):\n",
    "    kf = KFold(n_splits=5)\n",
    "    \n",
    "    accuracy = np.empty(n_splits)\n",
    "    for i, (train_index, test_index) in enumerate(kf.split(X)):\n",
    "        classifier.fit(X[train_index, :], Y[train_index])\n",
    "        Y_pred = classifier.predict(X[test_index, :])\n",
    "        accuracy[i] = np.mean(Y_pred == Y[test_index])\n",
    "\n",
    "    return accuracy"
   ]
  },
  {
   "cell_type": "code",
   "execution_count": 138,
   "metadata": {},
   "outputs": [
    {
     "name": "stdout",
     "output_type": "stream",
     "text": [
      "[0.62757872 0.70652174 0.94130435 0.93913043 0.86630435]\n",
      "0.8161679176698297\n"
     ]
    }
   ],
   "source": [
    "from sklearn.discriminant_analysis import LinearDiscriminantAnalysis as LDA\n",
    "\n",
    "classifier_lda = LDA()\n",
    "accuracy_lda = run_classifier(classifier_lda, X, Y)\n",
    "\n",
    "print(accuracy_lda)\n",
    "print(accuracy_lda.mean())"
   ]
  },
  {
   "cell_type": "code",
   "execution_count": 139,
   "metadata": {},
   "outputs": [],
   "source": [
    "# from sklearn.linear_model import LogisticRegression as LR\n",
    "\n",
    "# classifier_lr = LR(max_iter=2500, random_state=0)\n",
    "# accuracy_lr = run_classifier(classifier_lr, X, Y)\n",
    "\n",
    "# print(accuracy_lr)\n",
    "# print(accuracy_lr.mean())"
   ]
  },
  {
   "cell_type": "code",
   "execution_count": 140,
   "metadata": {},
   "outputs": [
    {
     "name": "stdout",
     "output_type": "stream",
     "text": [
      "[0.79913138 0.83478261 0.94456522 0.89891304 0.81847826]\n",
      "0.8591741018741443\n"
     ]
    }
   ],
   "source": [
    "from sklearn.linear_model import LogisticRegression as LR\n",
    "\n",
    "classifier_lr3 = LR(solver='liblinear')\n",
    "accuracy_lr3 = run_classifier(classifier_lr3, X, Y)\n",
    "\n",
    "print(accuracy_lr3)\n",
    "print(accuracy_lr3.mean())"
   ]
  },
  {
   "cell_type": "code",
   "execution_count": 141,
   "metadata": {},
   "outputs": [
    {
     "name": "stdout",
     "output_type": "stream",
     "text": [
      "[0.80564604 0.82282609 0.94347826 0.89891304 0.82065217]\n",
      "0.8583031204267574\n"
     ]
    }
   ],
   "source": [
    "from sklearn.linear_model import LogisticRegression as LR\n",
    "from sklearn.pipeline import make_pipeline\n",
    "from sklearn.preprocessing import StandardScaler\n",
    "\n",
    "kf = KFold(n_splits=5)\n",
    "accuracy_lr2 = np.empty(5)\n",
    "\n",
    "pipe = make_pipeline(StandardScaler(), LR())\n",
    "\n",
    "for i, (train_index, test_index) in enumerate(kf.split(X)):\n",
    "    pipe.fit(X[train_index, :], Y[train_index])\n",
    "    accuracy_lr2[i] = pipe.score(X[test_index, :], Y[test_index])\n",
    "\n",
    "print(accuracy_lr2)\n",
    "print(accuracy_lr2.mean())"
   ]
  },
  {
   "cell_type": "code",
   "execution_count": 142,
   "metadata": {},
   "outputs": [
    {
     "name": "stdout",
     "output_type": "stream",
     "text": [
      "(2788, 57)\n",
      "(1813, 57)\n",
      "57\n"
     ]
    }
   ],
   "source": [
    "from scipy.stats import ttest_ind\n",
    "\n",
    "X_mail = X[Y == 0, :]\n",
    "X_spam = X[Y == 1, :]\n",
    "num_features = 10\n",
    "\n",
    "print(X_mail.shape)\n",
    "print(X_spam.shape)\n",
    "\n",
    "m = X.shape[1]\n",
    "p_values = np.empty(m)\n",
    "\n",
    "print(m)\n",
    "\n",
    "for i in range(m):\n",
    "    _, p_values[i] = ttest_ind(X_mail[:, i].squeeze(), X_spam[:, i].squeeze())\n",
    "    \n",
    "selected_features = np.argpartition(p_values, num_features)[:num_features]\n",
    "X_reduced = X[:, selected_features]"
   ]
  },
  {
   "cell_type": "code",
   "execution_count": 143,
   "metadata": {},
   "outputs": [
    {
     "name": "stdout",
     "output_type": "stream",
     "text": [
      "[0.57546145 0.61086957 0.92173913 0.93152174 0.86195652]\n",
      "0.7803096822924043\n"
     ]
    }
   ],
   "source": [
    "accuracy_lda_reduced = run_classifier(classifier_lda, X_reduced, Y)\n",
    "print(accuracy_lda_reduced)\n",
    "print(accuracy_lda_reduced.mean())"
   ]
  },
  {
   "cell_type": "code",
   "execution_count": 144,
   "metadata": {},
   "outputs": [
    {
     "name": "stdout",
     "output_type": "stream",
     "text": [
      "[0.67318132 0.7076087  0.92391304 0.91630435 0.86847826]\n",
      "0.8178971344946419\n"
     ]
    }
   ],
   "source": [
    "from sklearn.linear_model import LogisticRegression as LR\n",
    "\n",
    "classifier_lr_reduced = LR(max_iter=800)\n",
    "\n",
    "accuracy_lr_reduced = run_classifier(classifier_lr_reduced, X_reduced, Y)\n",
    "print(accuracy_lr_reduced)\n",
    "print(accuracy_lr_reduced.mean())"
   ]
  },
  {
   "cell_type": "code",
   "execution_count": 145,
   "metadata": {},
   "outputs": [
    {
     "name": "stdout",
     "output_type": "stream",
     "text": [
      "[0.67643865 0.7076087  0.92282609 0.91521739 0.87173913]\n",
      "0.8187659915970353\n"
     ]
    }
   ],
   "source": [
    "from sklearn.linear_model import LogisticRegression as LR\n",
    "\n",
    "classifier_lr_reduced = LR(solver='liblinear')\n",
    "\n",
    "accuracy_lr_reduced = run_classifier(classifier_lr_reduced, X_reduced, Y)\n",
    "print(accuracy_lr_reduced)\n",
    "print(accuracy_lr_reduced.mean())"
   ]
  },
  {
   "cell_type": "code",
   "execution_count": 146,
   "metadata": {},
   "outputs": [],
   "source": [
    "%reset -f"
   ]
  }
 ],
 "metadata": {
  "kernelspec": {
   "display_name": "ai",
   "language": "python",
   "name": "python3"
  },
  "language_info": {
   "codemirror_mode": {
    "name": "ipython",
    "version": 3
   },
   "file_extension": ".py",
   "mimetype": "text/x-python",
   "name": "python",
   "nbconvert_exporter": "python",
   "pygments_lexer": "ipython3",
   "version": "3.12.1"
  }
 },
 "nbformat": 4,
 "nbformat_minor": 2
}
