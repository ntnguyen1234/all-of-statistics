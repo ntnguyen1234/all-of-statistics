{
 "cells": [
  {
   "cell_type": "code",
   "execution_count": 24,
   "metadata": {},
   "outputs": [
    {
     "name": "stdout",
     "output_type": "stream",
     "text": [
      "(4601, 58)\n",
      "(4601, 57)\n",
      "(4601,)\n"
     ]
    }
   ],
   "source": [
    "import numpy as np\n",
    "import pandas as pd\n",
    "\n",
    "df = pd.read_csv('spam.data', engine='pyarrow', sep=' ', header=None)\n",
    "df.iloc[:, -1] = df.iloc[:, -1].astype(np.int8, errors='raise')\n",
    "\n",
    "X = df.iloc[:, :-1].to_numpy()\n",
    "Y = df.iloc[:, -1].to_numpy(dtype=np.int8)\n",
    "print(df.shape)\n",
    "print(X.shape)\n",
    "print(Y.shape)"
   ]
  },
  {
   "cell_type": "code",
   "execution_count": 25,
   "metadata": {},
   "outputs": [
    {
     "data": {
      "text/plain": [
       "array([1, 0], dtype=int64)"
      ]
     },
     "execution_count": 25,
     "metadata": {},
     "output_type": "execute_result"
    }
   ],
   "source": [
    "df.iloc[:, -1].unique()"
   ]
  },
  {
   "cell_type": "code",
   "execution_count": 26,
   "metadata": {},
   "outputs": [
    {
     "data": {
      "text/plain": [
       "57\n",
       "0    2788\n",
       "1    1813\n",
       "Name: count, dtype: int64"
      ]
     },
     "execution_count": 26,
     "metadata": {},
     "output_type": "execute_result"
    }
   ],
   "source": [
    "df.iloc[:, -1].value_counts()"
   ]
  },
  {
   "cell_type": "code",
   "execution_count": 27,
   "metadata": {},
   "outputs": [
    {
     "data": {
      "text/plain": [
       "57\n",
       "0    0.605955\n",
       "1    0.394045\n",
       "Name: proportion, dtype: float64"
      ]
     },
     "execution_count": 27,
     "metadata": {},
     "output_type": "execute_result"
    }
   ],
   "source": [
    "df.iloc[:, -1].value_counts(normalize=True)"
   ]
  },
  {
   "cell_type": "code",
   "execution_count": 28,
   "metadata": {},
   "outputs": [
    {
     "data": {
      "text/plain": [
       "<Axes: ylabel='Frequency'>"
      ]
     },
     "execution_count": 28,
     "metadata": {},
     "output_type": "execute_result"
    },
    {
     "data": {
      "image/png": "[encoded data removed]",
      "text/plain": [
       "<Figure size 640x480 with 1 Axes>"
      ]
     },
     "metadata": {},
     "output_type": "display_data"
    }
   ],
   "source": [
    "df.iloc[:, -1].plot.hist()"
   ]
  },
  {
   "cell_type": "code",
   "execution_count": 29,
   "metadata": {},
   "outputs": [],
   "source": [
    "# df.describe().T"
   ]
  },
  {
   "cell_type": "code",
   "execution_count": 30,
   "metadata": {},
   "outputs": [
    {
     "name": "stdout",
     "output_type": "stream",
     "text": [
      "(3680, 57)\n",
      "(3680,)\n"
     ]
    }
   ],
   "source": [
    "from sklearn.model_selection import train_test_split\n",
    "\n",
    "n_splits = 5\n",
    "SEED = 42\n",
    "\n",
    "X_train, X_test, y_train, y_test = train_test_split(X, Y, test_size=1/n_splits, random_state=SEED, stratify=Y)\n",
    "print(X_train.shape)\n",
    "print(y_train.shape)"
   ]
  },
  {
   "cell_type": "code",
   "execution_count": 31,
   "metadata": {},
   "outputs": [
    {
     "name": "stdout",
     "output_type": "stream",
     "text": [
      "[[530  28]\n",
      " [ 41 322]]\n"
     ]
    }
   ],
   "source": [
    "from sklearn.metrics import confusion_matrix\n",
    "from sklearn.pipeline import make_pipeline\n",
    "from sklearn.preprocessing import MinMaxScaler, StandardScaler\n",
    "from sklearn.svm import SVC, LinearSVC\n",
    "\n",
    "clf = make_pipeline(StandardScaler(), \n",
    "                    LinearSVC(dual='auto', random_state=42, tol=1e-6))\n",
    "\n",
    "clf.fit(X_train, y_train)\n",
    "y_pred = clf.predict(X_test)\n",
    "\n",
    "print(confusion_matrix(y_test, y_pred))"
   ]
  },
  {
   "cell_type": "code",
   "execution_count": 32,
   "metadata": {},
   "outputs": [],
   "source": [
    "from numba import njit\n",
    "\n",
    "\n",
    "def p_kernel(p: float):\n",
    "    @njit\n",
    "    def f(X1: np.ndarray, X2: np.ndarray):\n",
    "        # (samples, features)\n",
    "        # inn_prod: np.ndarray = np.einsum('sf->s', np.einsum('sf,sf->sf', X1, X2))\n",
    "        # return np.power(1 + np.einsum('sf,ft->st', X1, np.einsum('sf->fs', X2)), p)\n",
    "        # return np.power(1 + np.einsum('sf,ft->st', X1, X2.T), p)\n",
    "        return (1 + X1 @ X2.T)**p\n",
    "    return f"
   ]
  },
  {
   "cell_type": "code",
   "execution_count": 33,
   "metadata": {},
   "outputs": [],
   "source": [
    "from sklearn.model_selection import StratifiedKFold, cross_val_score\n",
    "from sklearn.preprocessing import Normalizer, QuantileTransformer\n",
    "\n",
    "\n",
    "def get_accuracy(p: float) -> np.ndarray:\n",
    "    if p <= 1:\n",
    "        classifier = SVC(kernel=p_kernel(p), tol=1e-6)\n",
    "    else:\n",
    "        classifier = make_pipeline(QuantileTransformer(), SVC(kernel=p_kernel(p), tol=1e-6))\n",
    "\n",
    "    # classifier = SVC(kernel=p_kernel(p), tol=1e-6)\n",
    "    kf = StratifiedKFold(n_splits=n_splits-1)\n",
    "    return cross_val_score(classifier, X_train, y_train, cv=kf, error_score='raise')"
   ]
  },
  {
   "cell_type": "code",
   "execution_count": 34,
   "metadata": {},
   "outputs": [
    {
     "data": {
      "application/vnd.jupyter.widget-view+json": {
       "model_id": "53de89892f494171944e2a663d41bec3",
       "version_major": 2,
       "version_minor": 0
      },
      "text/plain": [
       "  0%|          | 0/61 [00:00<?, ?it/s]"
      ]
     },
     "metadata": {},
     "output_type": "display_data"
    },
    {
     "name": "stdout",
     "output_type": "stream",
     "text": [
      "p=-3.0 - Accuracy: 0.606 (+/- 0.001)\n",
      "p=-2.9 - Accuracy: 0.606 (+/- 0.001)\n",
      "p=-2.8 - Accuracy: 0.606 (+/- 0.001)\n",
      "p=-2.7 - Accuracy: 0.606 (+/- 0.001)\n",
      "p=-2.6 - Accuracy: 0.606 (+/- 0.001)\n",
      "p=-2.5 - Accuracy: 0.606 (+/- 0.001)\n",
      "p=-2.4 - Accuracy: 0.606 (+/- 0.001)\n",
      "p=-2.3 - Accuracy: 0.606 (+/- 0.001)\n",
      "p=-2.2 - Accuracy: 0.606 (+/- 0.001)\n",
      "p=-2.1 - Accuracy: 0.606 (+/- 0.001)\n",
      "p=-2.0 - Accuracy: 0.606 (+/- 0.001)\n",
      "p=-1.9 - Accuracy: 0.606 (+/- 0.001)\n",
      "p=-1.8 - Accuracy: 0.606 (+/- 0.001)\n",
      "p=-1.7 - Accuracy: 0.606 (+/- 0.001)\n",
      "p=-1.6 - Accuracy: 0.606 (+/- 0.001)\n",
      "p=-1.5 - Accuracy: 0.606 (+/- 0.001)\n",
      "p=-1.4 - Accuracy: 0.606 (+/- 0.001)\n",
      "p=-1.3 - Accuracy: 0.606 (+/- 0.001)\n",
      "p=-1.2 - Accuracy: 0.606 (+/- 0.001)\n",
      "p=-1.1 - Accuracy: 0.606 (+/- 0.001)\n",
      "p=-1.0 - Accuracy: 0.606 (+/- 0.001)\n",
      "p=-0.9 - Accuracy: 0.606 (+/- 0.001)\n",
      "p=-0.8 - Accuracy: 0.606 (+/- 0.001)\n",
      "p=-0.7 - Accuracy: 0.620 (+/- 0.025)\n",
      "p=-0.6 - Accuracy: 0.683 (+/- 0.023)\n",
      "p=-0.5 - Accuracy: 0.683 (+/- 0.030)\n",
      "p=-0.4 - Accuracy: 0.663 (+/- 0.024)\n",
      "p=-0.3 - Accuracy: 0.641 (+/- 0.008)\n",
      "p=-0.2 - Accuracy: 0.619 (+/- 0.007)\n",
      "p=-0.1 - Accuracy: 0.608 (+/- 0.005)\n",
      "p=0.0 - Accuracy: 0.606 (+/- 0.001)\n",
      "p=0.1 - Accuracy: 0.700 (+/- 0.023)\n",
      "p=0.2 - Accuracy: 0.707 (+/- 0.019)\n",
      "p=0.3 - Accuracy: 0.694 (+/- 0.012)\n",
      "p=0.4 - Accuracy: 0.668 (+/- 0.004)\n",
      "p=0.5 - Accuracy: 0.663 (+/- 0.010)\n",
      "p=0.6 - Accuracy: 0.677 (+/- 0.013)\n",
      "p=0.7 - Accuracy: 0.695 (+/- 0.012)\n",
      "p=0.8 - Accuracy: 0.721 (+/- 0.018)\n",
      "p=0.9 - Accuracy: 0.757 (+/- 0.014)\n",
      "p=1.0 - Accuracy: 0.941 (+/- 0.014)\n",
      "p=1.1 - Accuracy: 0.944 (+/- 0.016)\n",
      "p=1.2 - Accuracy: 0.943 (+/- 0.014)\n",
      "p=1.3 - Accuracy: 0.946 (+/- 0.015)\n",
      "p=1.4 - Accuracy: 0.946 (+/- 0.014)\n",
      "p=1.5 - Accuracy: 0.945 (+/- 0.015)\n",
      "p=1.6 - Accuracy: 0.945 (+/- 0.014)\n",
      "p=1.7 - Accuracy: 0.942 (+/- 0.010)\n",
      "p=1.8 - Accuracy: 0.939 (+/- 0.009)\n",
      "p=1.9 - Accuracy: 0.938 (+/- 0.007)\n",
      "p=2.0 - Accuracy: 0.936 (+/- 0.007)\n",
      "p=2.1 - Accuracy: 0.936 (+/- 0.008)\n",
      "p=2.2 - Accuracy: 0.934 (+/- 0.006)\n",
      "p=2.3 - Accuracy: 0.934 (+/- 0.007)\n",
      "p=2.4 - Accuracy: 0.933 (+/- 0.008)\n",
      "p=2.5 - Accuracy: 0.931 (+/- 0.009)\n",
      "p=2.6 - Accuracy: 0.932 (+/- 0.009)\n",
      "p=2.7 - Accuracy: 0.933 (+/- 0.010)\n",
      "p=2.8 - Accuracy: 0.932 (+/- 0.009)\n",
      "p=2.9 - Accuracy: 0.933 (+/- 0.009)\n",
      "p=3.0 - Accuracy: 0.933 (+/- 0.008)\n"
     ]
    }
   ],
   "source": [
    "from tqdm.notebook import tqdm\n",
    "\n",
    "step = 0.1\n",
    "for p in tqdm(np.arange(-3, 3+step, step=step)):\n",
    "    scores = get_accuracy(p)\n",
    "    print(f'{p=:.1f} - Accuracy: {scores.mean():.3f} (+/- {scores.std():.3f})')"
   ]
  },
  {
   "cell_type": "code",
   "execution_count": 35,
   "metadata": {},
   "outputs": [],
   "source": [
    "%reset -f"
   ]
  }
 ],
 "metadata": {
  "kernelspec": {
   "display_name": "ai",
   "language": "python",
   "name": "python3"
  },
  "language_info": {
   "codemirror_mode": {
    "name": "ipython",
    "version": 3
   },
   "file_extension": ".py",
   "mimetype": "text/x-python",
   "name": "python",
   "nbconvert_exporter": "python",
   "pygments_lexer": "ipython3",
   "version": "3.12.1"
  }
 },
 "nbformat": 4,
 "nbformat_minor": 2
}
