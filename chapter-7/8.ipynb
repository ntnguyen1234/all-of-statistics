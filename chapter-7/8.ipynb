{
 "cells": [
  {
   "cell_type": "code",
   "execution_count": 10,
   "metadata": {},
   "outputs": [
    {
     "name": "stdout",
     "output_type": "stream",
     "text": [
      "70.8970588235294 13.569960017586371\n",
      "44.3004259174116 97.49369172964721\n",
      "76.0\n"
     ]
    }
   ],
   "source": [
    "import numpy as np\n",
    "import pandas as pd\n",
    "from scipy.stats import norm\n",
    "\n",
    "data = pd.read_csv('faithful.csv')\n",
    "waiting = data['waiting'].to_numpy()\n",
    "\n",
    "n = len(waiting)\n",
    "z_95 = norm.ppf(0.975)\n",
    "\n",
    "x_n = np.mean(waiting)\n",
    "se = np.sqrt(np.var(waiting))\n",
    "\n",
    "L = x_n - z_95 * se\n",
    "U = x_n + z_95 * se\n",
    "\n",
    "med = np.median(waiting)\n",
    "\n",
    "# Estimate mean and standard error are 70.897 and 13.57\n",
    "print(x_n, se)\n",
    "\n",
    "# Confidence interval is (44.3, 97.49)\n",
    "print(L, U)\n",
    "\n",
    "# Estimate median is 76\n",
    "print(med)"
   ]
  }
 ],
 "metadata": {
  "kernelspec": {
   "display_name": "ai",
   "language": "python",
   "name": "python3"
  },
  "language_info": {
   "codemirror_mode": {
    "name": "ipython",
    "version": 3
   },
   "file_extension": ".py",
   "mimetype": "text/x-python",
   "name": "python",
   "nbconvert_exporter": "python",
   "pygments_lexer": "ipython3",
   "version": "3.11.4"
  },
  "orig_nbformat": 4
 },
 "nbformat": 4,
 "nbformat_minor": 2
}
