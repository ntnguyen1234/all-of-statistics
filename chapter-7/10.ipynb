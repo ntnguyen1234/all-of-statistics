{
 "cells": [
  {
   "cell_type": "code",
   "execution_count": 4,
   "metadata": {},
   "outputs": [
    {
     "name": "stdout",
     "output_type": "stream",
     "text": [
      "-277.3961538461539 694.0995860821473\n"
     ]
    }
   ],
   "source": [
    "import numpy as np\n",
    "import pandas as pd\n",
    "from scipy.stats import norm\n",
    "\n",
    "data = pd.read_csv('clouds.csv')\n",
    "unseed = data['Unseeded_Clouds'].to_numpy()\n",
    "seeded = data['Seeded_Clouds'].to_numpy()\n",
    "\n",
    "mean_u = np.mean(unseed)\n",
    "mean_s = np.mean(seeded)\n",
    "\n",
    "se_u = np.sqrt(np.var(unseed))\n",
    "se_s = np.sqrt(np.var(seeded))\n",
    "\n",
    "mu_theta = mean_u - mean_s\n",
    "se_theta = np.sqrt(se_u**2 + se_s**2)\n",
    "\n",
    "print(mu_theta, se_theta)"
   ]
  }
 ],
 "metadata": {
  "kernelspec": {
   "display_name": "ai",
   "language": "python",
   "name": "python3"
  },
  "language_info": {
   "codemirror_mode": {
    "name": "ipython",
    "version": 3
   },
   "file_extension": ".py",
   "mimetype": "text/x-python",
   "name": "python",
   "nbconvert_exporter": "python",
   "pygments_lexer": "ipython3",
   "version": "3.11.4"
  },
  "orig_nbformat": 4
 },
 "nbformat": 4,
 "nbformat_minor": 2
}
