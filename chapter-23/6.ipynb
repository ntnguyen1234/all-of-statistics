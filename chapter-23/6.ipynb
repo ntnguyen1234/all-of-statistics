{
 "cells": [
  {
   "cell_type": "code",
   "execution_count": 40,
   "metadata": {},
   "outputs": [
    {
     "name": "stdout",
     "output_type": "stream",
     "text": [
      "[1.   0.35 0.2 ]\n",
      "[[ 1.10410489e-01  7.07106781e-01  8.17634509e-17]\n",
      " [ 8.97085227e-01 -3.24568369e-16 -7.07106781e-01]\n",
      " [ 4.27840647e-01 -7.07106781e-01  7.07106781e-01]]\n",
      "[0.11041049 0.89708523 0.42784065]\n"
     ]
    }
   ],
   "source": [
    "import numpy as np\n",
    "from numpy.linalg import eig\n",
    "\n",
    "P = np.array([\n",
    "    [0.4,  0.5, 0.1],\n",
    "    [0.05, 0.7, 0.25],\n",
    "    [0.05, 0.5, 0.45]\n",
    "])\n",
    "eigenvalues, eigenvectors = eig(P.T)\n",
    "print(eigenvalues)\n",
    "print(eigenvectors)\n",
    "\n",
    "pi_dist = eigenvectors[:, 0]\n",
    "print(pi_dist)"
   ]
  },
  {
   "cell_type": "code",
   "execution_count": 41,
   "metadata": {},
   "outputs": [
    {
     "data": {
      "text/plain": [
       "array([0.11041049, 0.89708523, 0.42784065])"
      ]
     },
     "execution_count": 41,
     "metadata": {},
     "output_type": "execute_result"
    }
   ],
   "source": [
    "pi_dist @ P"
   ]
  },
  {
   "cell_type": "code",
   "execution_count": 42,
   "metadata": {},
   "outputs": [],
   "source": [
    "%reset -f"
   ]
  }
 ],
 "metadata": {
  "kernelspec": {
   "display_name": "ai",
   "language": "python",
   "name": "python3"
  },
  "language_info": {
   "codemirror_mode": {
    "name": "ipython",
    "version": 3
   },
   "file_extension": ".py",
   "mimetype": "text/x-python",
   "name": "python",
   "nbconvert_exporter": "python",
   "pygments_lexer": "ipython3",
   "version": "3.12.6"
  }
 },
 "nbformat": 4,
 "nbformat_minor": 2
}
