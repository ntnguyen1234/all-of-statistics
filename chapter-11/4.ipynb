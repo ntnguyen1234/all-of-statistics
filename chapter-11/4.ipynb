{
 "cells": [
  {
   "cell_type": "code",
   "execution_count": 5,
   "metadata": {},
   "outputs": [
    {
     "name": "stdout",
     "output_type": "stream",
     "text": [
      "0.08944271909999159\n",
      "(0.05287981908397718, 0.3471201809160229)\n"
     ]
    }
   ],
   "source": [
    "import numpy as np\n",
    "from scipy import stats as st\n",
    "\n",
    "alpha = 0.1\n",
    "n_1 = 50 # Placebo\n",
    "n_2 = 50 # Treatment\n",
    "n = n_1 + n_2\n",
    "\n",
    "X_1 = 30\n",
    "X_2 = 40\n",
    "\n",
    "p_1 = X_1/n_1\n",
    "p_2 = X_2/n_2\n",
    "\n",
    "z_alpha = st.norm.ppf(1-alpha/2)\n",
    "\n",
    "tau_hat = p_2 - p_1\n",
    "se_hat = np.sqrt( (p_1*(1-p_1))/n_1 + (p_2*(1-p_2))/n_2 )\n",
    "ci = (tau_hat - z_alpha*se_hat, tau_hat + z_alpha*se_hat)\n",
    "\n",
    "print(se_hat)\n",
    "print(ci)"
   ]
  },
  {
   "cell_type": "code",
   "execution_count": 6,
   "metadata": {},
   "outputs": [
    {
     "name": "stdout",
     "output_type": "stream",
     "text": [
      "0.08955154940033143\n",
      "(0.060000000000000164, 0.3400000000000002)\n"
     ]
    }
   ],
   "source": [
    "B = 1_000_0\n",
    "X_b1 = st.binom.rvs(n_1, p_1, size=B)\n",
    "X_b2 = st.binom.rvs(n_2, p_2, size=B)\n",
    "\n",
    "p_b1 = X_b1/n_1\n",
    "p_b2 = X_b2/n_2\n",
    "\n",
    "tau_b = p_b2 - p_b1\n",
    "se_b = np.sqrt( np.mean((tau_b - tau_hat)**2) )\n",
    "\n",
    "t_b: np.ndarray = np.sqrt(n) * (tau_b - tau_hat)\n",
    "t_1alpha = np.quantile(t_b, 1-alpha/2)\n",
    "t_alpha = np.quantile(t_b, alpha/2)\n",
    "\n",
    "ci_b = (tau_hat - t_1alpha/np.sqrt(n), tau_hat - t_alpha/np.sqrt(n))\n",
    "print(se_b)\n",
    "print(ci_b)"
   ]
  },
  {
   "cell_type": "code",
   "execution_count": 7,
   "metadata": {},
   "outputs": [
    {
     "name": "stdout",
     "output_type": "stream",
     "text": [
      "0.19135691527219895\n",
      "(0.04526263582433277, 0.3346204448483612)\n"
     ]
    }
   ],
   "source": [
    "X2_b1 = st.beta.rvs(a=X_1+1, b=n_1-X_1+1, size=B)\n",
    "X2_b2 = st.beta.rvs(a=X_2+1, b=n_2-X_2+1, size=B)\n",
    "\n",
    "tau2_b: np.ndarray = X2_b2 - X2_b1\n",
    "t2_mean = tau2_b.mean()\n",
    "ci2_b = (np.quantile(tau2_b, alpha/2), np.quantile(tau2_b, 1-alpha/2))\n",
    "print(t2_mean)\n",
    "print(ci2_b)"
   ]
  },
  {
   "cell_type": "code",
   "execution_count": 8,
   "metadata": {},
   "outputs": [],
   "source": [
    "%reset -f"
   ]
  }
 ],
 "metadata": {
  "kernelspec": {
   "display_name": "ai",
   "language": "python",
   "name": "python3"
  },
  "language_info": {
   "codemirror_mode": {
    "name": "ipython",
    "version": 3
   },
   "file_extension": ".py",
   "mimetype": "text/x-python",
   "name": "python",
   "nbconvert_exporter": "python",
   "pygments_lexer": "ipython3",
   "version": "3.11.4"
  },
  "orig_nbformat": 4
 },
 "nbformat": 4,
 "nbformat_minor": 2
}
