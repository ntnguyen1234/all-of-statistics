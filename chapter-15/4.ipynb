{
 "cells": [
  {
   "cell_type": "code",
   "execution_count": 36,
   "metadata": {},
   "outputs": [
    {
     "name": "stdout",
     "output_type": "stream",
     "text": [
      "[[ 14 641]\n",
      " [ 62 594]]\n",
      "[[655]\n",
      " [656]]\n",
      "[[  76]\n",
      " [1235]]\n",
      "[[ 37.97101449 617.02898551]\n",
      " [ 38.02898551 617.97101449]]\n",
      "34.5335058946819\n"
     ]
    }
   ],
   "source": [
    "import numpy as np\n",
    "\n",
    "X = np.array([[14, 641], [62, 594]])\n",
    "n = X.sum()\n",
    "\n",
    "print(X)\n",
    "\n",
    "X_idot: np.ndarray = X.sum(axis=1)[:, None]\n",
    "X_jdot: np.ndarray = X.sum(axis=0)[:, None]\n",
    "\n",
    "E = (X_idot @ X_jdot.T) / n\n",
    "\n",
    "T = 2*(X * np.log(X / E)).sum()"
   ]
  },
  {
   "cell_type": "code",
   "execution_count": 37,
   "metadata": {},
   "outputs": [
    {
     "data": {
      "text/plain": [
       "array([[  76, 1235]])"
      ]
     },
     "execution_count": 37,
     "metadata": {},
     "output_type": "execute_result"
    }
   ],
   "source": [
    "X_jdot.T"
   ]
  },
  {
   "cell_type": "code",
   "execution_count": 38,
   "metadata": {},
   "outputs": [
    {
     "data": {
      "text/plain": [
       "array([[0.36870229, 1.03884909],\n",
       "       [1.63033537, 0.96121013]])"
      ]
     },
     "execution_count": 38,
     "metadata": {},
     "output_type": "execute_result"
    }
   ],
   "source": [
    "X/E"
   ]
  },
  {
   "cell_type": "code",
   "execution_count": 39,
   "metadata": {},
   "outputs": [
    {
     "name": "stdout",
     "output_type": "stream",
     "text": [
      "[[655]\n",
      " [656]]\n",
      "[[  76]\n",
      " [1235]]\n"
     ]
    }
   ],
   "source": [
    "print(X_idot)\n",
    "print(X_jdot)"
   ]
  },
  {
   "cell_type": "code",
   "execution_count": 40,
   "metadata": {},
   "outputs": [
    {
     "data": {
      "text/plain": [
       "array([[ 49780., 808925.],\n",
       "       [ 49856., 810160.]])"
      ]
     },
     "execution_count": 40,
     "metadata": {},
     "output_type": "execute_result"
    }
   ],
   "source": [
    "E*n"
   ]
  },
  {
   "cell_type": "code",
   "execution_count": 41,
   "metadata": {},
   "outputs": [],
   "source": [
    "# %reset -f"
   ]
  }
 ],
 "metadata": {
  "kernelspec": {
   "display_name": "ai",
   "language": "python",
   "name": "python3"
  },
  "language_info": {
   "codemirror_mode": {
    "name": "ipython",
    "version": 3
   },
   "file_extension": ".py",
   "mimetype": "text/x-python",
   "name": "python",
   "nbconvert_exporter": "python",
   "pygments_lexer": "ipython3",
   "version": "3.12.0"
  },
  "orig_nbformat": 4
 },
 "nbformat": 4,
 "nbformat_minor": 2
}
