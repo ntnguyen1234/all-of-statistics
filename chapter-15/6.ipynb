{
 "cells": [
  {
   "cell_type": "code",
   "execution_count": 1,
   "metadata": {},
   "outputs": [
    {
     "name": "stdout",
     "output_type": "stream",
     "text": [
      "                JanTemp   Lat\n",
      "Mobile               44  31.2\n",
      "Montgomery           38  32.9\n",
      "Phoenix              35  33.6\n",
      "Little Rock          31  35.4\n",
      "Los Angeles          47  34.3\n",
      "San Francisco        42  38.4\n",
      "Denver               15  40.7\n",
      "New Haven            22  41.7\n",
      "Wilmington           26  40.5\n",
      "Washington           30  39.7\n",
      "Jacksonville         45  31.0\n",
      "Key West             65  25.0\n",
      "Miami                58  26.3\n",
      "Atlanta              37  33.9\n",
      "Boise                22  43.7\n",
      "Chicago              19  42.3\n",
      "Indianapolis         21  39.8\n",
      "Des Moines           11  41.8\n",
      "Wichita              22  38.1\n",
      "Louisville           27  39.0\n",
      "New Orleans          45  30.8\n",
      "Portland             12  44.2\n",
      "Baltimore            25  39.7\n",
      "Boston               23  42.7\n",
      "Detroit              21  43.1\n",
      "Minneapolis           2  45.9\n",
      "St. Louis            24  39.3\n",
      "Helena                8  47.1\n",
      "Omaha                13  41.9\n",
      "Concord              11  43.5\n",
      "Atlantic City        27  39.8\n",
      "Albuquerque          24  35.1\n",
      "Albany               14  42.6\n",
      "New York             27  40.8\n",
      "Charlotte            34  35.9\n",
      "Raleigh              31  36.4\n",
      "Bismarck              0  47.1\n",
      "Cincinnati           26  39.2\n",
      "Cleveland            21  42.3\n",
      "Oklahoma City        28  35.9\n",
      "Portland             33  45.6\n",
      "Harrisburg           24  40.9\n",
      "Philadelphia         24  40.9\n",
      "Charleston           38  33.3\n",
      "Nashville            31  36.7\n",
      "Amarillo             24  35.6\n",
      "Galveston            49  29.4\n",
      "Houston              44  30.1\n",
      "Salt Lake City       18  41.1\n",
      "Burlington            7  45.0\n",
      "Norfolk              32  37.0\n",
      "Seattle              33  48.1\n",
      "Spokane              19  48.1\n",
      "Madison               9  43.4\n",
      "Milwaukee            13  43.3\n",
      "Cheyenne             14  41.2\n",
      "PearsonRResult(statistic=-0.8480352058672054, pvalue=1.6239644394817607e-16)\n"
     ]
    }
   ],
   "source": [
    "import numpy as np\n",
    "import pandas as pd\n",
    "from scipy import stats as st\n",
    "\n",
    "data = pd.read_csv('temperature.csv', usecols=['JanTemp', 'Lat'])\n",
    "X = data['Lat'].to_numpy()\n",
    "Y = data['JanTemp'].to_numpy()\n",
    "\n",
    "print(data)\n",
    "print(st.pearsonr(X, Y))"
   ]
  },
  {
   "cell_type": "code",
   "execution_count": 2,
   "metadata": {},
   "outputs": [
    {
     "name": "stdout",
     "output_type": "stream",
     "text": [
      "-19.11382792451231\n",
      "1\n"
     ]
    }
   ],
   "source": [
    "def H(t, xtol=1e-8):\n",
    "    assert t != 0, \"t must be non-zero\"\n",
    "    t2 = t * t\n",
    "    j_max = int(np.ceil(np.sqrt(- np.log(xtol / 2) / (2 * t2) )))\n",
    "    print(np.log(xtol / 2))\n",
    "    print(j_max)\n",
    "\n",
    "H(100)"
   ]
  },
  {
   "cell_type": "code",
   "execution_count": 3,
   "metadata": {},
   "outputs": [
    {
     "ename": "",
     "evalue": "",
     "output_type": "error",
     "traceback": [
      "\u001b[1;31mThe Kernel crashed while executing code in the the current cell or a previous cell. Please review the code in the cell(s) to identify a possible cause of the failure. Click <a href='https://aka.ms/vscodeJupyterKernelCrash'>here</a> for more info. View Jupyter <a href='command:jupyter.viewOutput'>log</a> for further details."
     ]
    }
   ],
   "source": [
    "# %reset -f"
   ]
  }
 ],
 "metadata": {
  "kernelspec": {
   "display_name": "ai",
   "language": "python",
   "name": "python3"
  },
  "language_info": {
   "codemirror_mode": {
    "name": "ipython",
    "version": 3
   },
   "file_extension": ".py",
   "mimetype": "text/x-python",
   "name": "python",
   "nbconvert_exporter": "python",
   "pygments_lexer": "ipython3",
   "version": "3.12.0"
  }
 },
 "nbformat": 4,
 "nbformat_minor": 2
}
