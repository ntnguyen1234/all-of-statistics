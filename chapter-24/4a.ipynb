{
 "cells": [
  {
   "cell_type": "code",
   "execution_count": 1,
   "metadata": {},
   "outputs": [],
   "source": [
    "import numpy as np\n",
    "from scipy import stats\n",
    "\n",
    "rng = np.random.default_rng()\n",
    "THETA_1 = 1.5\n",
    "THETA_2 = 2\n",
    "\n",
    "mean_z = np.sqrt(THETA_2/THETA_1)\n",
    "mean_1_z = 1/mean_z + 1/(2*THETA_2)\n",
    "\n",
    "def inverse_gaussian_pdf(z: np.ndarray | float):\n",
    "    return np.power(z, -3/2) * np.exp( -THETA_1*z - THETA_2/z + 2*np.sqrt(THETA_1*THETA_2) + np.log(np.sqrt(2*THETA_2)) )"
   ]
  },
  {
   "cell_type": "code",
   "execution_count": 2,
   "metadata": {},
   "outputs": [],
   "source": [
    "# %%script echo skipping # 4a\n",
    "from tqdm.notebook import tqdm\n",
    "\n",
    "epsilon = 1e-6\n",
    "N = 1_000\n",
    "\n",
    "def independence_metropolis_hastings(shape: float) -> np.ndarray:\n",
    "    X = np.ones(N)\n",
    "    i = 0\n",
    "    with tqdm(total=N) as pbar:\n",
    "        while i < N:\n",
    "            y = rng.gamma(shape=shape)\n",
    "            r = min(\n",
    "                1, \n",
    "                inverse_gaussian_pdf(y)/inverse_gaussian_pdf(X[i]) * stats.gamma.pdf(X[i], shape)/stats.gamma.pdf(y, shape)\n",
    "            )\n",
    "            if rng.uniform(0, 1) >= r:\n",
    "                continue\n",
    "\n",
    "            X[i] = y\n",
    "            i += 1\n",
    "            pbar.update(1)\n",
    "    return X"
   ]
  },
  {
   "cell_type": "code",
   "execution_count": 3,
   "metadata": {},
   "outputs": [
    {
     "name": "stdout",
     "output_type": "stream",
     "text": [
      "\n",
      "--------------------------------------------\n",
      "\n",
      "Shape = 0.36787944117144233\n"
     ]
    },
    {
     "data": {
      "application/vnd.jupyter.widget-view+json": {
       "model_id": "c23bbbb7ce9649ddaa3fae07f8126779",
       "version_major": 2,
       "version_minor": 0
      },
      "text/plain": [
       "  0%|          | 0/1000 [00:00<?, ?it/s]"
      ]
     },
     "metadata": {},
     "output_type": "display_data"
    },
    {
     "name": "stdout",
     "output_type": "stream",
     "text": [
      "Loss = 0.07821466734603444\n",
      "\n",
      "--------------------------------------------\n",
      "\n",
      "Shape = 0.45942582403592663\n"
     ]
    },
    {
     "data": {
      "application/vnd.jupyter.widget-view+json": {
       "model_id": "6c504a2f464b4d3cb604cb9133f63956",
       "version_major": 2,
       "version_minor": 0
      },
      "text/plain": [
       "  0%|          | 0/1000 [00:00<?, ?it/s]"
      ]
     },
     "metadata": {},
     "output_type": "display_data"
    },
    {
     "name": "stdout",
     "output_type": "stream",
     "text": [
      "Loss = 0.009732857879051648\n",
      "\n",
      "--------------------------------------------\n",
      "\n",
      "Shape = 0.5737534207374329\n"
     ]
    },
    {
     "data": {
      "application/vnd.jupyter.widget-view+json": {
       "model_id": "c9a2e54800fa48ac8f818f1fd2aff74f",
       "version_major": 2,
       "version_minor": 0
      },
      "text/plain": [
       "  0%|          | 0/1000 [00:00<?, ?it/s]"
      ]
     },
     "metadata": {},
     "output_type": "display_data"
    },
    {
     "name": "stdout",
     "output_type": "stream",
     "text": [
      "Loss = 0.013640911259250155\n",
      "\n",
      "--------------------------------------------\n",
      "\n",
      "Shape = 0.7165313105737893\n"
     ]
    },
    {
     "data": {
      "application/vnd.jupyter.widget-view+json": {
       "model_id": "f02ef7d8fd564f8999475c7c4aa9b041",
       "version_major": 2,
       "version_minor": 0
      },
      "text/plain": [
       "  0%|          | 0/1000 [00:00<?, ?it/s]"
      ]
     },
     "metadata": {},
     "output_type": "display_data"
    },
    {
     "name": "stdout",
     "output_type": "stream",
     "text": [
      "Loss = 0.01464304823111906\n",
      "\n",
      "--------------------------------------------\n",
      "\n",
      "Shape = 0.8948393168143698\n"
     ]
    },
    {
     "data": {
      "application/vnd.jupyter.widget-view+json": {
       "model_id": "2095a79eba56465cb76e54e6f77859e4",
       "version_major": 2,
       "version_minor": 0
      },
      "text/plain": [
       "  0%|          | 0/1000 [00:00<?, ?it/s]"
      ]
     },
     "metadata": {},
     "output_type": "display_data"
    },
    {
     "name": "stdout",
     "output_type": "stream",
     "text": [
      "Loss = 0.02390363129484463\n",
      "\n",
      "--------------------------------------------\n",
      "\n",
      "Shape = 1.1175190687418637\n"
     ]
    },
    {
     "data": {
      "application/vnd.jupyter.widget-view+json": {
       "model_id": "28831e70be62433baf8f6c93773112d6",
       "version_major": 2,
       "version_minor": 0
      },
      "text/plain": [
       "  0%|          | 0/1000 [00:00<?, ?it/s]"
      ]
     },
     "metadata": {},
     "output_type": "display_data"
    },
    {
     "name": "stdout",
     "output_type": "stream",
     "text": [
      "Loss = 0.021102059551872276\n",
      "\n",
      "--------------------------------------------\n",
      "\n",
      "Shape = 1.3956124250860893\n"
     ]
    },
    {
     "data": {
      "application/vnd.jupyter.widget-view+json": {
       "model_id": "575ab5c8fc4f4944873931e71605dea9",
       "version_major": 2,
       "version_minor": 0
      },
      "text/plain": [
       "  0%|          | 0/1000 [00:00<?, ?it/s]"
      ]
     },
     "metadata": {},
     "output_type": "display_data"
    },
    {
     "name": "stdout",
     "output_type": "stream",
     "text": [
      "Loss = 0.039124041352900374\n",
      "\n",
      "--------------------------------------------\n",
      "\n",
      "Shape = 1.7429089986334574\n"
     ]
    },
    {
     "data": {
      "application/vnd.jupyter.widget-view+json": {
       "model_id": "74188bab46934c6d98b6712a44c5297b",
       "version_major": 2,
       "version_minor": 0
      },
      "text/plain": [
       "  0%|          | 0/1000 [00:00<?, ?it/s]"
      ]
     },
     "metadata": {},
     "output_type": "display_data"
    },
    {
     "name": "stdout",
     "output_type": "stream",
     "text": [
      "Loss = 0.019058463395801528\n",
      "\n",
      "--------------------------------------------\n",
      "\n",
      "Shape = 2.176629931716248\n"
     ]
    },
    {
     "data": {
      "application/vnd.jupyter.widget-view+json": {
       "model_id": "b79f3c66b06e407b89cc3456c2dba879",
       "version_major": 2,
       "version_minor": 0
      },
      "text/plain": [
       "  0%|          | 0/1000 [00:00<?, ?it/s]"
      ]
     },
     "metadata": {},
     "output_type": "display_data"
    },
    {
     "name": "stdout",
     "output_type": "stream",
     "text": [
      "Loss = 0.043944449604161884\n",
      "\n",
      "--------------------------------------------\n",
      "\n",
      "Shape = 2.718281828459045\n"
     ]
    },
    {
     "data": {
      "application/vnd.jupyter.widget-view+json": {
       "model_id": "c7b22b1406d24fed81125d0581eb2831",
       "version_major": 2,
       "version_minor": 0
      },
      "text/plain": [
       "  0%|          | 0/1000 [00:00<?, ?it/s]"
      ]
     },
     "metadata": {},
     "output_type": "display_data"
    },
    {
     "name": "stdout",
     "output_type": "stream",
     "text": [
      "Loss = 0.1654154427105321\n"
     ]
    }
   ],
   "source": [
    "# %%script echo skipping # 4a\n",
    "shape_num = 10\n",
    "shape_as = np.logspace(-1, 1, num=shape_num, base=np.e)\n",
    "X_loss = np.empty(shape_num)\n",
    "\n",
    "for i, shape_a in enumerate(shape_as):\n",
    "    print('\\n--------------------------------------------\\n')\n",
    "    print(f'Shape = {shape_a}')\n",
    "    X = independence_metropolis_hastings(shape_a)\n",
    "    X_loss[i] = np.abs(mean_z - X.mean()) + np.abs(mean_1_z - (1/X).mean())\n",
    "    print(f'Loss = {X_loss[i]}')"
   ]
  },
  {
   "cell_type": "code",
   "execution_count": 4,
   "metadata": {},
   "outputs": [
    {
     "name": "stdout",
     "output_type": "stream",
     "text": [
      "skipping # 4a\n"
     ]
    }
   ],
   "source": [
    "%%script echo skipping # 4a\n",
    "import matplotlib.pyplot as plt\n",
    "\n",
    "plt.hist(X, bins=50)\n",
    "plt.show()"
   ]
  },
  {
   "cell_type": "code",
   "execution_count": 5,
   "metadata": {},
   "outputs": [],
   "source": [
    "%reset -f"
   ]
  }
 ],
 "metadata": {
  "kernelspec": {
   "display_name": "ai",
   "language": "python",
   "name": "python3"
  },
  "language_info": {
   "codemirror_mode": {
    "name": "ipython",
    "version": 3
   },
   "file_extension": ".py",
   "mimetype": "text/x-python",
   "name": "python",
   "nbconvert_exporter": "python",
   "pygments_lexer": "ipython3",
   "version": "3.13.1"
  }
 },
 "nbformat": 4,
 "nbformat_minor": 2
}
