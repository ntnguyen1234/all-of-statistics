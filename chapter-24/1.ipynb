{
 "cells": [
  {
   "cell_type": "code",
   "execution_count": 168,
   "metadata": {},
   "outputs": [],
   "source": [
    "import numpy as np\n",
    "from scipy.stats import norm\n",
    "\n",
    "rng = np.random.default_rng()\n",
    "N = 100_000\n",
    "\n",
    "I_true = norm.cdf(2) - norm.cdf(1)\n",
    "se_true = np.sqrt( (I_true - I_true**2)/(N-1) )"
   ]
  },
  {
   "cell_type": "code",
   "execution_count": 169,
   "metadata": {},
   "outputs": [
    {
     "name": "stdout",
     "output_type": "stream",
     "text": [
      "I_true     0.13590512198327787\n",
      "I          0.13496\n"
     ]
    },
    {
     "data": {
      "application/vnd.jupyter.widget-view+json": {
       "model_id": "f9be64a8e034449898d0b077dfbfaa66",
       "version_major": 2,
       "version_minor": 0
      },
      "text/plain": [
       "  0%|          | 0/100000 [00:00<?, ?it/s]"
      ]
     },
     "metadata": {},
     "output_type": "display_data"
    },
    {
     "name": "stdout",
     "output_type": "stream",
     "text": [
      "\n",
      "se_true    0.0010836793536970696\n",
      "se_hat     0.0010804950988767313\n"
     ]
    }
   ],
   "source": [
    "from tqdm.notebook import tqdm\n",
    "\n",
    "def w(x):\n",
    "    return np.where((1 <= x) & (x <= 2), 1, 0)\n",
    "\n",
    "# [1, 2, 3, ..., N]\n",
    "samples_num = np.arange(1,N+1)\n",
    "\n",
    "# X ~ N(0,1)\n",
    "X = rng.normal(loc=0, scale=1, size=N)\n",
    "\n",
    "# Y = indicator_(1,2)(X) \n",
    "Y = w(X)\n",
    "\n",
    "# I_hat = [Y_1, (Y_1+Y_2)/2, ...]\n",
    "I_hat = np.cumsum(Y) / samples_num\n",
    "print(f'{\"I_true\":10} {I_true}')\n",
    "print(f'{\"I\":10} {I_hat[-1]}')\n",
    "\n",
    "se_hat = np.empty(N)\n",
    "\n",
    "for n in tqdm(range(1, N+1)):\n",
    "    if n == 1:\n",
    "        se_hat[n-1] = np.inf\n",
    "    else:\n",
    "        # s = np.sqrt( 1/(n-1)*np.sum(np.square(Y[:n]-I_hat[:n])) )\n",
    "        # s = np.linalg.norm(Y[:n]-I_hat[:n])/np.sqrt(n-1)\n",
    "        inter = Y[:n]-I_hat[n-1]\n",
    "\n",
    "        # s^2\n",
    "        s2 = np.einsum('i,i->', inter, inter) / (n-1)\n",
    "        se_hat[n-1] = np.sqrt(s2/n)\n",
    "\n",
    "print()\n",
    "print(f'{\"se_true\":10} {se_true}')\n",
    "print(f'{\"se_hat\":10} {se_hat[-1]}')"
   ]
  },
  {
   "cell_type": "code",
   "execution_count": 170,
   "metadata": {},
   "outputs": [],
   "source": [
    "# import matplotlib.pyplot as plt\n",
    "\n",
    "# x_plt = list(range(1,N+1))\n",
    "\n",
    "# plt.figure(figsize=(12, 8))\n",
    "# plt.plot(x_plt, I_true)"
   ]
  },
  {
   "cell_type": "code",
   "execution_count": 171,
   "metadata": {},
   "outputs": [],
   "source": [
    "%reset -f"
   ]
  }
 ],
 "metadata": {
  "kernelspec": {
   "display_name": "ai-13",
   "language": "python",
   "name": "python3"
  },
  "language_info": {
   "codemirror_mode": {
    "name": "ipython",
    "version": 3
   },
   "file_extension": ".py",
   "mimetype": "text/x-python",
   "name": "python",
   "nbconvert_exporter": "python",
   "pygments_lexer": "ipython3",
   "version": "3.13.0"
  }
 },
 "nbformat": 4,
 "nbformat_minor": 2
}
