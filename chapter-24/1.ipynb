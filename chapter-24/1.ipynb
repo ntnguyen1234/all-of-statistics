{
 "cells": [
  {
   "cell_type": "code",
   "execution_count": null,
   "metadata": {},
   "outputs": [],
   "source": [
    "import numpy as np\n",
    "from scipy.stats import norm\n",
    "\n",
    "\n",
    "# indicator_(1,2)(X)\n",
    "def w(x):\n",
    "    return np.where((1 <= x) & (x <= 2), 1, 0)\n",
    "\n",
    "I_true = norm.cdf(2) - norm.cdf(1)\n",
    "\n",
    "rng = np.random.default_rng()"
   ]
  },
  {
   "cell_type": "code",
   "execution_count": 119,
   "metadata": {},
   "outputs": [
    {
     "name": "stdout",
     "output_type": "stream",
     "text": [
      "skipping # 1a, 1b\n"
     ]
    }
   ],
   "source": [
    "%%script echo skipping # 1a, 1b\n",
    "from tqdm.notebook import tqdm\n",
    "\n",
    "\n",
    "N = 100_000\n",
    "se_true = np.sqrt( (I_true - I_true**2)/(N-1) )\n",
    "\n",
    "# [1, 2, 3, ..., N]\n",
    "samples_num = np.arange(1,N+1)\n",
    "\n",
    "# X ~ N(0,1)\n",
    "X = rng.normal(loc=0, scale=1, size=N)\n",
    "Y = w(X)\n",
    "\n",
    "# I_hat = [Y_1, (Y_1+Y_2)/2, ...]\n",
    "I_hat = np.cumsum(Y) / samples_num\n",
    "print(f'{\"I_true\":10} {I_true}')\n",
    "print(f'{\"I\"     :10} {I_hat[-1]}')\n",
    "\n",
    "se_hat = np.empty(N)\n",
    "\n",
    "for n in tqdm(range(1, N+1)):\n",
    "    if n == 1:\n",
    "        se_hat[n-1] = np.inf\n",
    "    else:\n",
    "        # s = np.sqrt( 1/(n-1)*np.sum(np.square(Y[:n]-I_hat[:n])) )\n",
    "        # s = np.linalg.norm(Y[:n]-I_hat[:n])/np.sqrt(n-1)\n",
    "        inter = Y[:n]-I_hat[n-1]\n",
    "\n",
    "        # s^2\n",
    "        s2 = np.einsum('i,i->', inter, inter) / (n-1)\n",
    "        se_hat[n-1] = np.sqrt(s2/n)\n",
    "\n",
    "print()\n",
    "print(f'{\"se_true\":10} {se_true}')\n",
    "print(f'{\"se_hat\" :10} {se_hat[-1]}')"
   ]
  },
  {
   "cell_type": "code",
   "execution_count": 120,
   "metadata": {},
   "outputs": [],
   "source": [
    "# %%script echo skipping # 1c\n",
    "# Samples\n",
    "N_samples = 10_000\n",
    "# Simulations\n",
    "B_simulations = 1_000\n",
    "\n",
    "def sample_normal(std, size: int | tuple[int, int]):\n",
    "    return rng.normal(loc=1.5, scale=std, size=size)\n",
    "\n",
    "def pdf_normal(std, x):\n",
    "    return norm.pdf(x, loc=1.5, scale=std)"
   ]
  },
  {
   "cell_type": "code",
   "execution_count": 121,
   "metadata": {},
   "outputs": [
    {
     "name": "stdout",
     "output_type": "stream",
     "text": [
      "skipping # 1c_1\n"
     ]
    }
   ],
   "source": [
    "%%script echo skipping # 1c_1\n",
    "for v in [.1, 1, 10]:\n",
    "    X = sample_g(v, (B, N))\n",
    "    Y = w(X) * norm.pdf(X) / pdf_g(v, X)\n",
    "    I_hat: np.ndarray = Y.mean(axis=1)\n",
    "    \n",
    "    print()\n",
    "    print(f'{\"I_true\":10} {I_true}')\n",
    "    print(f'{\"I\"     :10} {I_hat.mean()}')\n",
    "    # break"
   ]
  },
  {
   "cell_type": "code",
   "execution_count": 122,
   "metadata": {},
   "outputs": [
    {
     "data": {
      "application/vnd.jupyter.widget-view+json": {
       "model_id": "a64bfe3310a94904879763beadb16bd5",
       "version_major": 2,
       "version_minor": 0
      },
      "text/plain": [
       "  0%|          | 0/1000 [00:00<?, ?it/s]"
      ]
     },
     "metadata": {},
     "output_type": "display_data"
    },
    {
     "name": "stdout",
     "output_type": "stream",
     "text": [
      "\n",
      "I_true     0.13590512198327787\n",
      "I          0.13589134402966432\n"
     ]
    }
   ],
   "source": [
    "# %%script echo skipping # 1c_2\n",
    "from tqdm.notebook import tqdm\n",
    "\n",
    "I_hat: dict[float, np.array] = dict()\n",
    "# v_deviations = [.1, 1, 10]\n",
    "v_deviations = [10]\n",
    "\n",
    "for v in v_deviations:\n",
    "    # I_hat = np.empty(B)\n",
    "    I_hat[v] = np.empty(B_simulations)\n",
    "    for i in tqdm(range(B_simulations)):\n",
    "        X = sample_normal(v, N_samples)\n",
    "        # Y = w(X) * norm.pdf(X) / pdf_g(v, X)\n",
    "        \n",
    "        wf_X = np.einsum('i,i->i', w(X), norm.pdf(X))\n",
    "        I_hat[v][i] = np.einsum('i,i', wf_X, 1/pdf_normal(v, X))/N_samples\n",
    "    \n",
    "    print()\n",
    "    print(f'{\"I_true\":10} {I_true}')\n",
    "    print(f'{\"I\"     :10} {I_hat[v].mean()}')\n",
    "    # break"
   ]
  },
  {
   "cell_type": "code",
   "execution_count": 123,
   "metadata": {},
   "outputs": [
    {
     "name": "stdout",
     "output_type": "stream",
     "text": [
      "24\n"
     ]
    },
    {
     "data": {
      "image/png": "[encoded data removed]",
      "text/plain": [
       "<Figure size 640x480 with 1 Axes>"
      ]
     },
     "metadata": {},
     "output_type": "display_data"
    }
   ],
   "source": [
    "import matplotlib.pyplot as plt\n",
    "\n",
    "# x_plt = list(range(1,N+1))\n",
    "\n",
    "# plt.figure(figsize=(12, 8))\n",
    "# plt.plot(x_plt, I_true)\n",
    "\n",
    "for v in v_deviations:\n",
    "    n, bins, patches = plt.hist(I_hat[v], density=True, bins='auto')\n",
    "    print(len(bins))\n",
    "    break"
   ]
  },
  {
   "cell_type": "code",
   "execution_count": 124,
   "metadata": {},
   "outputs": [],
   "source": [
    "%reset -f"
   ]
  }
 ],
 "metadata": {
  "kernelspec": {
   "display_name": "ai-13",
   "language": "python",
   "name": "python3"
  },
  "language_info": {
   "codemirror_mode": {
    "name": "ipython",
    "version": 3
   },
   "file_extension": ".py",
   "mimetype": "text/x-python",
   "name": "python",
   "nbconvert_exporter": "python",
   "pygments_lexer": "ipython3",
   "version": "3.13.0"
  }
 },
 "nbformat": 4,
 "nbformat_minor": 2
}
