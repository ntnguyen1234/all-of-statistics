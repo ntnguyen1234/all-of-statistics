{
 "cells": [
  {
   "cell_type": "code",
   "execution_count": 256,
   "metadata": {},
   "outputs": [
    {
     "data": {
      "text/plain": [
       "np.float64(3.2974425414002564)"
      ]
     },
     "execution_count": 256,
     "metadata": {},
     "output_type": "execute_result"
    }
   ],
   "source": [
    "# %%script echo skipping # 3b\n",
    "import numpy as np\n",
    "from scipy.stats import cauchy\n",
    "\n",
    "\n",
    "def g(x):\n",
    "    if np.isscalar(x):\n",
    "        return 1/(1+x**2)\n",
    "    \n",
    "    return 1/(1 + np.einsum('i,i->i', x, x))\n",
    "\n",
    "def density_standard_normal(x):\n",
    "    if np.isscalar(x):\n",
    "        return np.exp( -(x**2)/2 )\n",
    "    \n",
    "    return np.exp( -np.einsum('i,i->i', x, x) / 2 )\n",
    "\n",
    "def threshold_X(x, M: np.float64):\n",
    "    if np.isscalar(x):\n",
    "        return density_standard_normal(x) / (M*g(x))\n",
    "    \n",
    "    return np.einsum('i,i->i', density_standard_normal(x), 1/(M*g(x)))\n",
    "\n",
    "def indicator_X(x):\n",
    "    return np.where(x <= 0, 1, 0)\n",
    "\n",
    "rng = np.random.default_rng()\n",
    "\n",
    "N_observations = 1_000_0\n",
    "M = 2*np.sqrt(np.e)\n",
    "M"
   ]
  },
  {
   "cell_type": "code",
   "execution_count": 257,
   "metadata": {},
   "outputs": [],
   "source": [
    "X_init = cauchy.rvs(size=N_observations)\n",
    "U_init = rng.uniform(0, 1, N_observations)\n",
    "\n",
    "Y: np.ndarray = np.einsum('i,i->i', indicator_X(U_init - threshold_X(X_init, M)), X_init)\n",
    "Y_list: list = Y[Y != 0].tolist()"
   ]
  },
  {
   "cell_type": "code",
   "execution_count": 258,
   "metadata": {},
   "outputs": [
    {
     "data": {
      "application/vnd.jupyter.widget-view+json": {
       "model_id": "2325dd409f5b4c759c058f16fe5549d7",
       "version_major": 2,
       "version_minor": 0
      },
      "text/plain": [
       " 24%|##4       | 2433/10000 [00:00<?, ?it/s]"
      ]
     },
     "metadata": {},
     "output_type": "display_data"
    }
   ],
   "source": [
    "# %%script echo skipping # 3b\n",
    "from tqdm.notebook import tqdm\n",
    "\n",
    "with tqdm(total=N_observations, initial=len(Y_list)) as progress_bar:\n",
    "    while True:\n",
    "        if len(Y_list) == N_observations:\n",
    "            break\n",
    "\n",
    "        X: np.ndarray = cauchy.rvs()\n",
    "        U = rng.uniform(0, 1)\n",
    "\n",
    "        if U <= threshold_X(X, M):\n",
    "            progress_bar.update()\n",
    "            Y_list.append(X.item())"
   ]
  },
  {
   "cell_type": "code",
   "execution_count": 259,
   "metadata": {},
   "outputs": [
    {
     "data": {
      "image/png": "[encoded data removed]",
      "text/plain": [
       "<Figure size 640x480 with 1 Axes>"
      ]
     },
     "metadata": {},
     "output_type": "display_data"
    }
   ],
   "source": [
    "import matplotlib.pyplot as plt\n",
    "\n",
    "plt.hist(Y_list, bins='auto')\n",
    "plt.show()"
   ]
  },
  {
   "cell_type": "code",
   "execution_count": 260,
   "metadata": {},
   "outputs": [],
   "source": [
    "%reset -f"
   ]
  }
 ],
 "metadata": {
  "kernelspec": {
   "display_name": "ai",
   "language": "python",
   "name": "python3"
  },
  "language_info": {
   "codemirror_mode": {
    "name": "ipython",
    "version": 3
   },
   "file_extension": ".py",
   "mimetype": "text/x-python",
   "name": "python",
   "nbconvert_exporter": "python",
   "pygments_lexer": "ipython3",
   "version": "3.13.1"
  }
 },
 "nbformat": 4,
 "nbformat_minor": 2
}
